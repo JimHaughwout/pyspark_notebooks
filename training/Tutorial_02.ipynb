{
 "cells": [
  {
   "cell_type": "code",
   "execution_count": 1,
   "metadata": {
    "collapsed": false
   },
   "outputs": [
    {
     "data": {
      "text/html": [
       "<style>.container { width:100% !important; }</style>"
      ],
      "text/plain": [
       "<IPython.core.display.HTML object>"
      ]
     },
     "metadata": {},
     "output_type": "display_data"
    }
   ],
   "source": [
    "from IPython.core.display import display, HTML\n",
    "display(HTML(\"<style>.container { width:100% !important; }</style>\"))"
   ]
  },
  {
   "cell_type": "code",
   "execution_count": 2,
   "metadata": {
    "collapsed": true
   },
   "outputs": [],
   "source": [
    "import findspark # You will need to pip install findspark\n",
    "findspark.init()"
   ]
  },
  {
   "cell_type": "code",
   "execution_count": 3,
   "metadata": {
    "collapsed": true
   },
   "outputs": [],
   "source": [
    "from pyspark import SparkContext\n",
    "sc = SparkContext(\"local\", \"Tutorial_02\") # Spark UI at http://localhost:4040/jobs/\n",
    "\n",
    "from pyspark.sql import SQLContext, HiveContext\n",
    "#sqlContext = SQLContext(sc)\n",
    "sqlContext = HiveContext(sc)"
   ]
  },
  {
   "cell_type": "code",
   "execution_count": 4,
   "metadata": {
    "collapsed": false
   },
   "outputs": [
    {
     "name": "stdout",
     "output_type": "stream",
     "text": [
      "root\n",
      " |-- invoice: string (nullable = true)\n",
      " |-- sales: double (nullable = true)\n",
      " |-- team: string (nullable = true)\n",
      "\n"
     ]
    },
    {
     "data": {
      "text/plain": [
       "40"
      ]
     },
     "execution_count": 4,
     "metadata": {},
     "output_type": "execute_result"
    }
   ],
   "source": [
    "SOURCE = 'sales_sample.json'\n",
    "df = sqlContext.read.json(SOURCE)\n",
    "df.printSchema()\n",
    "df.count()"
   ]
  },
  {
   "cell_type": "code",
   "execution_count": 5,
   "metadata": {
    "collapsed": false
   },
   "outputs": [],
   "source": [
    "df.registerTempTable('sales')"
   ]
  },
  {
   "cell_type": "code",
   "execution_count": 6,
   "metadata": {
    "collapsed": false
   },
   "outputs": [
    {
     "data": {
      "text/html": [
       "<div>\n",
       "<table border=\"1\" class=\"dataframe\">\n",
       "  <thead>\n",
       "    <tr style=\"text-align: right;\">\n",
       "      <th></th>\n",
       "      <th>team</th>\n",
       "      <th>invoice</th>\n",
       "    </tr>\n",
       "  </thead>\n",
       "  <tbody>\n",
       "    <tr>\n",
       "      <th>0</th>\n",
       "      <td>TEAM-5</td>\n",
       "      <td>TESTCO2016001</td>\n",
       "    </tr>\n",
       "    <tr>\n",
       "      <th>1</th>\n",
       "      <td>TEAM-5</td>\n",
       "      <td>TESTCO2016003</td>\n",
       "    </tr>\n",
       "    <tr>\n",
       "      <th>2</th>\n",
       "      <td>TEAM-5</td>\n",
       "      <td>TESTCO2016004</td>\n",
       "    </tr>\n",
       "    <tr>\n",
       "      <th>3</th>\n",
       "      <td>TEAM-3</td>\n",
       "      <td>TESTCO2016007</td>\n",
       "    </tr>\n",
       "    <tr>\n",
       "      <th>4</th>\n",
       "      <td>TEAM-5</td>\n",
       "      <td>TESTCO2016008</td>\n",
       "    </tr>\n",
       "    <tr>\n",
       "      <th>5</th>\n",
       "      <td>TEAM-5</td>\n",
       "      <td>TESTCO2016009</td>\n",
       "    </tr>\n",
       "    <tr>\n",
       "      <th>6</th>\n",
       "      <td>TEAM-5</td>\n",
       "      <td>TESTCO2016010</td>\n",
       "    </tr>\n",
       "    <tr>\n",
       "      <th>7</th>\n",
       "      <td>TEAM-3</td>\n",
       "      <td>TESTCO2016011</td>\n",
       "    </tr>\n",
       "    <tr>\n",
       "      <th>8</th>\n",
       "      <td>TEAM-4</td>\n",
       "      <td>TESTCO2016012</td>\n",
       "    </tr>\n",
       "    <tr>\n",
       "      <th>9</th>\n",
       "      <td>TEAM-3</td>\n",
       "      <td>TESTCO2016013</td>\n",
       "    </tr>\n",
       "    <tr>\n",
       "      <th>10</th>\n",
       "      <td>TEAM-5</td>\n",
       "      <td>TESTCO2016014</td>\n",
       "    </tr>\n",
       "    <tr>\n",
       "      <th>11</th>\n",
       "      <td>TEAM-4</td>\n",
       "      <td>TESTCO2016016</td>\n",
       "    </tr>\n",
       "    <tr>\n",
       "      <th>12</th>\n",
       "      <td>TEAM-5</td>\n",
       "      <td>TESTCO2016017</td>\n",
       "    </tr>\n",
       "    <tr>\n",
       "      <th>13</th>\n",
       "      <td>TEAM-3</td>\n",
       "      <td>TESTCO2016018</td>\n",
       "    </tr>\n",
       "    <tr>\n",
       "      <th>14</th>\n",
       "      <td>TEAM-3</td>\n",
       "      <td>TESTCO2016021</td>\n",
       "    </tr>\n",
       "    <tr>\n",
       "      <th>15</th>\n",
       "      <td>TEAM-3</td>\n",
       "      <td>TESTCO2016022</td>\n",
       "    </tr>\n",
       "    <tr>\n",
       "      <th>16</th>\n",
       "      <td>TEAM-5</td>\n",
       "      <td>TESTCO2016025</td>\n",
       "    </tr>\n",
       "    <tr>\n",
       "      <th>17</th>\n",
       "      <td>TEAM-5</td>\n",
       "      <td>TESTCO2016028</td>\n",
       "    </tr>\n",
       "    <tr>\n",
       "      <th>18</th>\n",
       "      <td>TEAM-5</td>\n",
       "      <td>TESTCO2016032</td>\n",
       "    </tr>\n",
       "    <tr>\n",
       "      <th>19</th>\n",
       "      <td>TEAM-3</td>\n",
       "      <td>TESTCO2016033</td>\n",
       "    </tr>\n",
       "    <tr>\n",
       "      <th>20</th>\n",
       "      <td>TEAM-4</td>\n",
       "      <td>TESTCO2016035</td>\n",
       "    </tr>\n",
       "    <tr>\n",
       "      <th>21</th>\n",
       "      <td>TEAM-5</td>\n",
       "      <td>TESTCO2016036</td>\n",
       "    </tr>\n",
       "    <tr>\n",
       "      <th>22</th>\n",
       "      <td>TEAM-2</td>\n",
       "      <td>TESTCO2016037</td>\n",
       "    </tr>\n",
       "    <tr>\n",
       "      <th>23</th>\n",
       "      <td>TEAM-2</td>\n",
       "      <td>TESTCO2016038</td>\n",
       "    </tr>\n",
       "    <tr>\n",
       "      <th>24</th>\n",
       "      <td>TEAM-2</td>\n",
       "      <td>TESTCO2016039</td>\n",
       "    </tr>\n",
       "  </tbody>\n",
       "</table>\n",
       "</div>"
      ],
      "text/plain": [
       "      team        invoice\n",
       "0   TEAM-5  TESTCO2016001\n",
       "1   TEAM-5  TESTCO2016003\n",
       "2   TEAM-5  TESTCO2016004\n",
       "3   TEAM-3  TESTCO2016007\n",
       "4   TEAM-5  TESTCO2016008\n",
       "5   TEAM-5  TESTCO2016009\n",
       "6   TEAM-5  TESTCO2016010\n",
       "7   TEAM-3  TESTCO2016011\n",
       "8   TEAM-4  TESTCO2016012\n",
       "9   TEAM-3  TESTCO2016013\n",
       "10  TEAM-5  TESTCO2016014\n",
       "11  TEAM-4  TESTCO2016016\n",
       "12  TEAM-5  TESTCO2016017\n",
       "13  TEAM-3  TESTCO2016018\n",
       "14  TEAM-3  TESTCO2016021\n",
       "15  TEAM-3  TESTCO2016022\n",
       "16  TEAM-5  TESTCO2016025\n",
       "17  TEAM-5  TESTCO2016028\n",
       "18  TEAM-5  TESTCO2016032\n",
       "19  TEAM-3  TESTCO2016033\n",
       "20  TEAM-4  TESTCO2016035\n",
       "21  TEAM-5  TESTCO2016036\n",
       "22  TEAM-2  TESTCO2016037\n",
       "23  TEAM-2  TESTCO2016038\n",
       "24  TEAM-2  TESTCO2016039"
      ]
     },
     "execution_count": 6,
     "metadata": {},
     "output_type": "execute_result"
    }
   ],
   "source": [
    "sqlContext.sql('''\n",
    "SELECT team, invoice FROM sales WHERE sales > 250000\n",
    "''').toPandas()"
   ]
  },
  {
   "cell_type": "code",
   "execution_count": 18,
   "metadata": {
    "collapsed": false
   },
   "outputs": [
    {
     "data": {
      "text/html": [
       "<div>\n",
       "<table border=\"1\" class=\"dataframe\">\n",
       "  <thead>\n",
       "    <tr style=\"text-align: right;\">\n",
       "      <th></th>\n",
       "      <th>team</th>\n",
       "      <th>total_sales</th>\n",
       "    </tr>\n",
       "  </thead>\n",
       "  <tbody>\n",
       "    <tr>\n",
       "      <th>0</th>\n",
       "      <td>TEAM-5</td>\n",
       "      <td>6266574.18</td>\n",
       "    </tr>\n",
       "    <tr>\n",
       "      <th>1</th>\n",
       "      <td>TEAM-3</td>\n",
       "      <td>2185617.27</td>\n",
       "    </tr>\n",
       "    <tr>\n",
       "      <th>2</th>\n",
       "      <td>TEAM-2</td>\n",
       "      <td>2110930.15</td>\n",
       "    </tr>\n",
       "    <tr>\n",
       "      <th>3</th>\n",
       "      <td>TEAM-4</td>\n",
       "      <td>1268761.00</td>\n",
       "    </tr>\n",
       "    <tr>\n",
       "      <th>4</th>\n",
       "      <td>TEAM-1</td>\n",
       "      <td>1158811.30</td>\n",
       "    </tr>\n",
       "  </tbody>\n",
       "</table>\n",
       "</div>"
      ],
      "text/plain": [
       "     team  total_sales\n",
       "0  TEAM-5   6266574.18\n",
       "1  TEAM-3   2185617.27\n",
       "2  TEAM-2   2110930.15\n",
       "3  TEAM-4   1268761.00\n",
       "4  TEAM-1   1158811.30"
      ]
     },
     "execution_count": 18,
     "metadata": {},
     "output_type": "execute_result"
    }
   ],
   "source": [
    "sqlContext.sql('''\n",
    "SELECT team, sum(sales) as total_sales\n",
    "FROM sales GROUP BY team\n",
    "ORDER BY total_sales DESC\n",
    "''').toPandas()"
   ]
  },
  {
   "cell_type": "code",
   "execution_count": 21,
   "metadata": {
    "collapsed": false
   },
   "outputs": [
    {
     "data": {
      "text/html": [
       "<div>\n",
       "<table border=\"1\" class=\"dataframe\">\n",
       "  <thead>\n",
       "    <tr style=\"text-align: right;\">\n",
       "      <th></th>\n",
       "      <th>team</th>\n",
       "      <th>avg_sale</th>\n",
       "    </tr>\n",
       "  </thead>\n",
       "  <tbody>\n",
       "    <tr>\n",
       "      <th>0</th>\n",
       "      <td>TEAM-5</td>\n",
       "      <td>522214.515000</td>\n",
       "    </tr>\n",
       "    <tr>\n",
       "      <th>1</th>\n",
       "      <td>TEAM-4</td>\n",
       "      <td>422920.333333</td>\n",
       "    </tr>\n",
       "    <tr>\n",
       "      <th>2</th>\n",
       "      <td>TEAM-3</td>\n",
       "      <td>312231.038571</td>\n",
       "    </tr>\n",
       "    <tr>\n",
       "      <th>3</th>\n",
       "      <td>TEAM-2</td>\n",
       "      <td>234547.794444</td>\n",
       "    </tr>\n",
       "    <tr>\n",
       "      <th>4</th>\n",
       "      <td>TEAM-1</td>\n",
       "      <td>128756.811111</td>\n",
       "    </tr>\n",
       "  </tbody>\n",
       "</table>\n",
       "</div>"
      ],
      "text/plain": [
       "     team       avg_sale\n",
       "0  TEAM-5  522214.515000\n",
       "1  TEAM-4  422920.333333\n",
       "2  TEAM-3  312231.038571\n",
       "3  TEAM-2  234547.794444\n",
       "4  TEAM-1  128756.811111"
      ]
     },
     "execution_count": 21,
     "metadata": {},
     "output_type": "execute_result"
    }
   ],
   "source": [
    "sqlContext.sql('''\n",
    "SELECT team, avg(sales) as avg_sale\n",
    "FROM sales GROUP BY team\n",
    "ORDER BY avg_sale DESC\n",
    "''').toPandas()"
   ]
  },
  {
   "cell_type": "code",
   "execution_count": 31,
   "metadata": {
    "collapsed": true
   },
   "outputs": [],
   "source": [
    "from pyspark.sql.functions import *"
   ]
  },
  {
   "cell_type": "code",
   "execution_count": 24,
   "metadata": {
    "collapsed": true
   },
   "outputs": [],
   "source": [
    "xdf = sqlContext.createDataFrame([([2, 1, 3],),([1],),([],)], ['data'])"
   ]
  },
  {
   "cell_type": "code",
   "execution_count": 26,
   "metadata": {
    "collapsed": false
   },
   "outputs": [
    {
     "name": "stdout",
     "output_type": "stream",
     "text": [
      "+---------+\n",
      "|     data|\n",
      "+---------+\n",
      "|[2, 1, 3]|\n",
      "|      [1]|\n",
      "|       []|\n",
      "+---------+\n",
      "\n"
     ]
    }
   ],
   "source": [
    "xdf.show()"
   ]
  },
  {
   "cell_type": "code",
   "execution_count": 32,
   "metadata": {
    "collapsed": false
   },
   "outputs": [
    {
     "data": {
      "text/plain": [
       "[Row(r=[3, 2, 1]), Row(r=[1]), Row(r=[])]"
      ]
     },
     "execution_count": 32,
     "metadata": {},
     "output_type": "execute_result"
    }
   ],
   "source": [
    "xdf.select(sort_array(xdf.data, asc=False).alias('r')).collect()"
   ]
  },
  {
   "cell_type": "code",
   "execution_count": 49,
   "metadata": {
    "collapsed": false
   },
   "outputs": [
    {
     "data": {
      "text/plain": [
       "[5]"
      ]
     },
     "execution_count": 49,
     "metadata": {},
     "output_type": "execute_result"
    }
   ],
   "source": [
    "df.agg(approxCountDistinct(df['team']).alias('team_count')).collect()[0].asDict().values()"
   ]
  },
  {
   "cell_type": "code",
   "execution_count": 62,
   "metadata": {
    "collapsed": false
   },
   "outputs": [
    {
     "name": "stdout",
     "output_type": "stream",
     "text": [
      "+-------+------------------+\n",
      "|summary|             sales|\n",
      "+-------+------------------+\n",
      "|  count|                40|\n",
      "|   mean|324767.34749999986|\n",
      "| stddev|156694.35210249847|\n",
      "|    min|         101817.08|\n",
      "|    max|         594960.07|\n",
      "+-------+------------------+\n",
      "\n"
     ]
    }
   ],
   "source": [
    "df.describe('sales').show()"
   ]
  },
  {
   "cell_type": "code",
   "execution_count": 63,
   "metadata": {
    "collapsed": false
   },
   "outputs": [
    {
     "name": "stdout",
     "output_type": "stream",
     "text": [
      "+------------------+----------+----------+\n",
      "|        avg(sales)|min(sales)|max(sales)|\n",
      "+------------------+----------+----------+\n",
      "|324767.34749999986| 101817.08| 594960.07|\n",
      "+------------------+----------+----------+\n",
      "\n"
     ]
    }
   ],
   "source": [
    "df.select([mean('sales'), min('sales'), max('sales')]).show()\n"
   ]
  },
  {
   "cell_type": "code",
   "execution_count": 67,
   "metadata": {
    "collapsed": false
   },
   "outputs": [
    {
     "name": "stdout",
     "output_type": "stream",
     "text": [
      "+-----------------+\n",
      "|      SQRT(sales)|\n",
      "+-----------------+\n",
      "|672.5195090107052|\n",
      "|472.9546384168359|\n",
      "|704.7124945678202|\n",
      "|743.7008336690232|\n",
      "+-----------------+\n",
      "only showing top 4 rows\n",
      "\n"
     ]
    }
   ],
   "source": [
    "df.select([sqrt('sales')]).show(4)"
   ]
  },
  {
   "cell_type": "code",
   "execution_count": 92,
   "metadata": {
    "collapsed": false
   },
   "outputs": [
    {
     "name": "stdout",
     "output_type": "stream",
     "text": [
      "+--------------------+\n",
      "|         total_sales|\n",
      "+--------------------+\n",
      "|1.2990693899999995E7|\n",
      "+--------------------+\n",
      "\n"
     ]
    }
   ],
   "source": [
    "df.select(sum('sales').alias('total_sales')).show()"
   ]
  },
  {
   "cell_type": "code",
   "execution_count": 73,
   "metadata": {
    "collapsed": false
   },
   "outputs": [
    {
     "data": {
      "text/plain": [
       "{'total_sales': 12990693.899999995}"
      ]
     },
     "execution_count": 73,
     "metadata": {},
     "output_type": "execute_result"
    }
   ],
   "source": [
    "df.select(sum('sales').alias('total_sales')).collect()[0].asDict()"
   ]
  },
  {
   "cell_type": "code",
   "execution_count": 80,
   "metadata": {
    "collapsed": false
   },
   "outputs": [],
   "source": [
    "from pyspark.sql.types import *\n",
    "to_gbp = udf(lambda s: 1.3*s, FloatType())"
   ]
  },
  {
   "cell_type": "code",
   "execution_count": 91,
   "metadata": {
    "collapsed": false
   },
   "outputs": [
    {
     "name": "stdout",
     "output_type": "stream",
     "text": [
      "+---------+\n",
      "|sales_gbp|\n",
      "+---------+\n",
      "|587967.25|\n",
      "| 290791.9|\n",
      "| 645605.6|\n",
      "| 719018.2|\n",
      "| 132362.2|\n",
      "+---------+\n",
      "only showing top 5 rows\n",
      "\n"
     ]
    }
   ],
   "source": [
    "df.select(to_gbp('sales').alias('sales_gbp')).show(5)"
   ]
  },
  {
   "cell_type": "code",
   "execution_count": 107,
   "metadata": {
    "collapsed": false
   },
   "outputs": [
    {
     "data": {
      "text/plain": [
       "pyspark.rdd.PipelinedRDD"
      ]
     },
     "execution_count": 107,
     "metadata": {},
     "output_type": "execute_result"
    }
   ],
   "source": [
    "x = df.map(lambda s: (s['team'], s['sales']))\n",
    "type(x)"
   ]
  },
  {
   "cell_type": "code",
   "execution_count": 110,
   "metadata": {
    "collapsed": false
   },
   "outputs": [
    {
     "data": {
      "text/plain": [
       "[(u'TEAM-2', 2110930.1500000004),\n",
       " (u'TEAM-3', 2185617.27),\n",
       " (u'TEAM-1', 1158811.3),\n",
       " (u'TEAM-4', 1268761.0),\n",
       " (u'TEAM-5', 6266574.180000001)]"
      ]
     },
     "execution_count": 110,
     "metadata": {},
     "output_type": "execute_result"
    }
   ],
   "source": [
    "x.reduceByKey(lambda accum, n: accum + n).collect()"
   ]
  },
  {
   "cell_type": "code",
   "execution_count": 114,
   "metadata": {
    "collapsed": false
   },
   "outputs": [
    {
     "data": {
      "text/plain": [
       "[(u'TEAM-2', (2110930.1500000004, 9)),\n",
       " (u'TEAM-3', (2185617.27, 7)),\n",
       " (u'TEAM-1', (1158811.3, 9)),\n",
       " (u'TEAM-4', (1268761.0, 3)),\n",
       " (u'TEAM-5', (6266574.180000001, 12))]"
      ]
     },
     "execution_count": 114,
     "metadata": {},
     "output_type": "execute_result"
    }
   ],
   "source": [
    "a = x.aggregateByKey((0,0), lambda a,b: (a[0] + b, a[1] + 1), lambda a,b: (a[0] + b[0], a[1] + b[1]))\n",
    "a.collect()"
   ]
  },
  {
   "cell_type": "code",
   "execution_count": 115,
   "metadata": {
    "collapsed": true
   },
   "outputs": [],
   "source": [
    "b = a.mapValues(lambda v: v[0]/v[1]).collect()"
   ]
  },
  {
   "cell_type": "code",
   "execution_count": 116,
   "metadata": {
    "collapsed": false
   },
   "outputs": [
    {
     "data": {
      "text/plain": [
       "[(u'TEAM-2', 234547.79444444447),\n",
       " (u'TEAM-3', 312231.03857142857),\n",
       " (u'TEAM-1', 128756.81111111112),\n",
       " (u'TEAM-4', 422920.3333333333),\n",
       " (u'TEAM-5', 522214.5150000001)]"
      ]
     },
     "execution_count": 116,
     "metadata": {},
     "output_type": "execute_result"
    }
   ],
   "source": [
    "b"
   ]
  },
  {
   "cell_type": "code",
   "execution_count": 97,
   "metadata": {
    "collapsed": false
   },
   "outputs": [],
   "source": [
    "#from pyspark.sql.window import Window"
   ]
  },
  {
   "cell_type": "code",
   "execution_count": 122,
   "metadata": {
    "collapsed": false
   },
   "outputs": [
    {
     "name": "stdout",
     "output_type": "stream",
     "text": [
      "+---------+----------+\n",
      "|    sales|       gbp|\n",
      "+---------+----------+\n",
      "|452282.49|587967.237|\n",
      "|223686.09|290791.917|\n",
      "+---------+----------+\n",
      "only showing top 2 rows\n",
      "\n"
     ]
    }
   ],
   "source": [
    "df.select(\n",
    "    'sales',\n",
    "    (1.30*df['sales']).alias('gbp')\n",
    ").show(2)"
   ]
  },
  {
   "cell_type": "code",
   "execution_count": 125,
   "metadata": {
    "collapsed": true
   },
   "outputs": [],
   "source": [
    "def usd_to_gbp(usd):\n",
    "    return 1.30*usd"
   ]
  },
  {
   "cell_type": "code",
   "execution_count": 135,
   "metadata": {
    "collapsed": false
   },
   "outputs": [
    {
     "name": "stdout",
     "output_type": "stream",
     "text": [
      "+-------+------------------+------------------+\n",
      "|summary|         sales_usd|         sales_gbp|\n",
      "+-------+------------------+------------------+\n",
      "|  count|                40|                40|\n",
      "|   mean|324767.34749999986| 422197.5517500001|\n",
      "| stddev|156694.35210249847|203702.65773324805|\n",
      "|    min|         101817.08|        132362.204|\n",
      "|    max|         594960.07|        773448.091|\n",
      "+-------+------------------+------------------+\n",
      "\n"
     ]
    }
   ],
   "source": [
    "df.select(\n",
    "    df['sales'].alias('sales_usd'),\n",
    "    (usd_to_gbp(df['sales'])).alias('sales_gbp')\n",
    ") \\\n",
    ".describe() \\\n",
    ".show()"
   ]
  },
  {
   "cell_type": "code",
   "execution_count": 136,
   "metadata": {
    "collapsed": false
   },
   "outputs": [
    {
     "data": {
      "text/html": [
       "<div>\n",
       "<table border=\"1\" class=\"dataframe\">\n",
       "  <thead>\n",
       "    <tr style=\"text-align: right;\">\n",
       "      <th></th>\n",
       "      <th>team</th>\n",
       "      <th>total_sales</th>\n",
       "    </tr>\n",
       "  </thead>\n",
       "  <tbody>\n",
       "    <tr>\n",
       "      <th>0</th>\n",
       "      <td>TEAM-5</td>\n",
       "      <td>6266574.18</td>\n",
       "    </tr>\n",
       "    <tr>\n",
       "      <th>1</th>\n",
       "      <td>TEAM-3</td>\n",
       "      <td>2185617.27</td>\n",
       "    </tr>\n",
       "    <tr>\n",
       "      <th>2</th>\n",
       "      <td>TEAM-2</td>\n",
       "      <td>2110930.15</td>\n",
       "    </tr>\n",
       "    <tr>\n",
       "      <th>3</th>\n",
       "      <td>TEAM-4</td>\n",
       "      <td>1268761.00</td>\n",
       "    </tr>\n",
       "    <tr>\n",
       "      <th>4</th>\n",
       "      <td>TEAM-1</td>\n",
       "      <td>1158811.30</td>\n",
       "    </tr>\n",
       "  </tbody>\n",
       "</table>\n",
       "</div>"
      ],
      "text/plain": [
       "     team  total_sales\n",
       "0  TEAM-5   6266574.18\n",
       "1  TEAM-3   2185617.27\n",
       "2  TEAM-2   2110930.15\n",
       "3  TEAM-4   1268761.00\n",
       "4  TEAM-1   1158811.30"
      ]
     },
     "execution_count": 136,
     "metadata": {},
     "output_type": "execute_result"
    }
   ],
   "source": [
    "sqlContext.sql('''\n",
    "SELECT team, sum(sales) as total_sales\n",
    "FROM sales GROUP BY team\n",
    "ORDER BY total_sales DESC\n",
    "''').toPandas()"
   ]
  },
  {
   "cell_type": "code",
   "execution_count": 172,
   "metadata": {
    "collapsed": false
   },
   "outputs": [],
   "source": [
    "foo = sqlContext.sql('''\n",
    "SELECT team, sum(sales) as total_sales\n",
    "FROM sales GROUP BY team\n",
    "ORDER BY total_sales DESC\n",
    "''')\n",
    "foo.registerTempTable('foo_table')"
   ]
  },
  {
   "cell_type": "code",
   "execution_count": 185,
   "metadata": {
    "collapsed": false
   },
   "outputs": [],
   "source": [
    "from pyspark.sql.window import Window"
   ]
  },
  {
   "cell_type": "code",
   "execution_count": 194,
   "metadata": {
    "collapsed": false
   },
   "outputs": [
    {
     "name": "stdout",
     "output_type": "stream",
     "text": [
      "+-------------+---------+------+\n",
      "|      invoice|    sales|  team|\n",
      "+-------------+---------+------+\n",
      "|TESTCO2016001|452282.49|TEAM-5|\n",
      "|TESTCO2016003| 496619.7|TEAM-5|\n",
      "|TESTCO2016004|553090.93|TEAM-5|\n",
      "|TESTCO2016008|542159.19|TEAM-5|\n",
      "|TESTCO2016009|456825.13|TEAM-5|\n",
      "|TESTCO2016010|501443.96|TEAM-5|\n",
      "|TESTCO2016014|560580.18|TEAM-5|\n",
      "|TESTCO2016017|453861.42|TEAM-5|\n",
      "|TESTCO2016025|579567.67|TEAM-5|\n",
      "|TESTCO2016028|523371.07|TEAM-5|\n",
      "|TESTCO2016032|594960.07|TEAM-5|\n",
      "|TESTCO2016036|551812.37|TEAM-5|\n",
      "+-------------+---------+------+\n",
      "\n"
     ]
    }
   ],
   "source": [
    "df.filter(df['team']=='TEAM-5').show()"
   ]
  },
  {
   "cell_type": "code",
   "execution_count": 195,
   "metadata": {
    "collapsed": false
   },
   "outputs": [
    {
     "name": "stdout",
     "output_type": "stream",
     "text": [
      "+-------------+---------+------+\n",
      "|      invoice|    sales|  team|\n",
      "+-------------+---------+------+\n",
      "|TESTCO2016001|452282.49|TEAM-5|\n",
      "|TESTCO2016003| 496619.7|TEAM-5|\n",
      "|TESTCO2016004|553090.93|TEAM-5|\n",
      "|TESTCO2016008|542159.19|TEAM-5|\n",
      "|TESTCO2016009|456825.13|TEAM-5|\n",
      "|TESTCO2016010|501443.96|TEAM-5|\n",
      "|TESTCO2016014|560580.18|TEAM-5|\n",
      "|TESTCO2016017|453861.42|TEAM-5|\n",
      "|TESTCO2016025|579567.67|TEAM-5|\n",
      "|TESTCO2016028|523371.07|TEAM-5|\n",
      "|TESTCO2016032|594960.07|TEAM-5|\n",
      "|TESTCO2016036|551812.37|TEAM-5|\n",
      "+-------------+---------+------+\n",
      "\n"
     ]
    }
   ],
   "source": [
    "df.where(df['team']=='TEAM-5').show()"
   ]
  },
  {
   "cell_type": "code",
   "execution_count": 7,
   "metadata": {
    "collapsed": false
   },
   "outputs": [],
   "source": [
    "from pyspark.sql.window import Window"
   ]
  },
  {
   "cell_type": "code",
   "execution_count": 8,
   "metadata": {
    "collapsed": true
   },
   "outputs": [],
   "source": [
    "w = Window.partitionBy(df['team']).orderBy(df['sales'])"
   ]
  },
  {
   "cell_type": "code",
   "execution_count": 10,
   "metadata": {
    "collapsed": true
   },
   "outputs": [],
   "source": [
    "from pyspark.sql.functions import *"
   ]
  },
  {
   "cell_type": "code",
   "execution_count": 15,
   "metadata": {
    "collapsed": false
   },
   "outputs": [],
   "source": [
    "x = df.select('team', 'invoice', 'sales', percentRank().over(w).alias('pct_rank'), ntile(4).over(w).alias('ntile4'))"
   ]
  },
  {
   "cell_type": "code",
   "execution_count": 16,
   "metadata": {
    "collapsed": false
   },
   "outputs": [
    {
     "name": "stdout",
     "output_type": "stream",
     "text": [
      "+------+-------------+---------+--------+------+\n",
      "|  team|      invoice|    sales|pct_rank|ntile4|\n",
      "+------+-------------+---------+--------+------+\n",
      "|TEAM-1|TESTCO2016031|157618.02|     1.0|     4|\n",
      "|TEAM-2|TESTCO2016037|273332.59|     1.0|     4|\n",
      "|TEAM-3|TESTCO2016033|346253.33|     1.0|     4|\n",
      "|TEAM-4|TESTCO2016035|440564.78|     1.0|     3|\n",
      "|TEAM-5|TESTCO2016032|594960.07|     1.0|     4|\n",
      "+------+-------------+---------+--------+------+\n",
      "\n"
     ]
    }
   ],
   "source": [
    "x.where(x['pct_rank']==1.0).show()"
   ]
  },
  {
   "cell_type": "code",
   "execution_count": 25,
   "metadata": {
    "collapsed": false
   },
   "outputs": [
    {
     "name": "stdout",
     "output_type": "stream",
     "text": [
      "+-------------+------+---------+-------------------+-------------------+\n",
      "|      invoice|  team|    sales|           pct_rank|            epsilon|\n",
      "+-------------+------+---------+-------------------+-------------------+\n",
      "|TESTCO2016005|TEAM-1|101817.08|                0.0|                0.5|\n",
      "|TESTCO2016006|TEAM-1|109938.58|              0.125|              0.375|\n",
      "|TESTCO2016023|TEAM-1|110517.42|               0.25|               0.25|\n",
      "|TESTCO2016019|TEAM-1|113095.44|              0.375|              0.125|\n",
      "|TESTCO2016030|TEAM-1| 132661.2|                0.5|                0.0|\n",
      "|TESTCO2016024|TEAM-1|139834.95|              0.625|              0.125|\n",
      "|TESTCO2016029|TEAM-1|144630.01|               0.75|               0.25|\n",
      "|TESTCO2016034|TEAM-1| 148698.6|              0.875|              0.375|\n",
      "|TESTCO2016031|TEAM-1|157618.02|                1.0|                0.5|\n",
      "|TESTCO2016020|TEAM-2| 199188.7|                0.0|                0.5|\n",
      "|TESTCO2016027|TEAM-2|216324.01|              0.125|              0.375|\n",
      "|TESTCO2016026|TEAM-2|217798.03|               0.25|               0.25|\n",
      "|TESTCO2016040|TEAM-2|220396.83|              0.375|              0.125|\n",
      "|TESTCO2016002|TEAM-2|223686.09|                0.5|                0.0|\n",
      "|TESTCO2016015|TEAM-2|228420.51|              0.625|              0.125|\n",
      "|TESTCO2016038|TEAM-2| 258949.1|               0.75|               0.25|\n",
      "|TESTCO2016039|TEAM-2|272834.29|              0.875|              0.375|\n",
      "|TESTCO2016037|TEAM-2|273332.59|                1.0|                0.5|\n",
      "|TESTCO2016007|TEAM-3|280391.47|                0.0|                0.5|\n",
      "|TESTCO2016021|TEAM-3|287666.48|0.16666666666666666|0.33333333333333337|\n",
      "+-------------+------+---------+-------------------+-------------------+\n",
      "only showing top 20 rows\n",
      "\n"
     ]
    }
   ],
   "source": [
    "y = x.select('invoice', 'team', 'sales', 'pct_rank', abs(0.5 - x['pct_rank']).alias('epsilon'))\n",
    "y.show()"
   ]
  },
  {
   "cell_type": "code",
   "execution_count": 28,
   "metadata": {
    "collapsed": false
   },
   "outputs": [
    {
     "name": "stdout",
     "output_type": "stream",
     "text": [
      "+-------------+------+---------+-------------------+--------------------+\n",
      "|      invoice|  team|    sales|           pct_rank|             epsilon|\n",
      "+-------------+------+---------+-------------------+--------------------+\n",
      "|TESTCO2016030|TEAM-1| 132661.2|                0.5|                 0.0|\n",
      "|TESTCO2016002|TEAM-2|223686.09|                0.5|                 0.0|\n",
      "|TESTCO2016011|TEAM-3|309942.68|                0.5|                 0.0|\n",
      "|TESTCO2016012|TEAM-4|429917.75|                0.5|                 0.0|\n",
      "|TESTCO2016028|TEAM-5|523371.07|0.45454545454545453| 0.04545454545454547|\n",
      "|TESTCO2016008|TEAM-5|542159.19| 0.5454545454545454|0.045454545454545414|\n",
      "+-------------+------+---------+-------------------+--------------------+\n",
      "\n"
     ]
    }
   ],
   "source": [
    "y.filter(y['epsilon']<0.125).show()"
   ]
  },
  {
   "cell_type": "code",
   "execution_count": null,
   "metadata": {
    "collapsed": true
   },
   "outputs": [],
   "source": []
  }
 ],
 "metadata": {
  "kernelspec": {
   "display_name": "Python 2",
   "language": "python",
   "name": "python2"
  },
  "language_info": {
   "codemirror_mode": {
    "name": "ipython",
    "version": 2
   },
   "file_extension": ".py",
   "mimetype": "text/x-python",
   "name": "python",
   "nbconvert_exporter": "python",
   "pygments_lexer": "ipython2",
   "version": "2.7.10"
  }
 },
 "nbformat": 4,
 "nbformat_minor": 0
}
