{
 "cells": [
  {
   "cell_type": "code",
   "execution_count": 1,
   "metadata": {
    "collapsed": false
   },
   "outputs": [
    {
     "data": {
      "text/html": [
       "<style>.container { width:100% !important; }</style>"
      ],
      "text/plain": [
       "<IPython.core.display.HTML object>"
      ]
     },
     "metadata": {},
     "output_type": "display_data"
    }
   ],
   "source": [
    "from IPython.core.display import display, HTML\n",
    "display(HTML(\"<style>.container { width:100% !important; }</style>\"))"
   ]
  },
  {
   "cell_type": "code",
   "execution_count": 2,
   "metadata": {
    "collapsed": true
   },
   "outputs": [],
   "source": [
    "import findspark # You will need to pip install findspark\n",
    "findspark.init()"
   ]
  },
  {
   "cell_type": "code",
   "execution_count": 3,
   "metadata": {
    "collapsed": true
   },
   "outputs": [],
   "source": [
    "from pyspark import SparkContext\n",
    "sc = SparkContext(\"local\", \"Tutorial_02\") # Spark UI at http://localhost:4040/jobs/\n",
    "\n",
    "from pyspark.sql import SQLContext, HiveContext\n",
    "sqlContext = SQLContext(sc)\n",
    "#sqlContext = HiveContext(sc)"
   ]
  },
  {
   "cell_type": "code",
   "execution_count": 4,
   "metadata": {
    "collapsed": false
   },
   "outputs": [
    {
     "name": "stdout",
     "output_type": "stream",
     "text": [
      "root\n",
      " |-- invoice: string (nullable = true)\n",
      " |-- on_prem: double (nullable = true)\n",
      " |-- saas: double (nullable = true)\n",
      " |-- team: string (nullable = true)\n",
      "\n"
     ]
    },
    {
     "data": {
      "text/plain": [
       "40"
      ]
     },
     "execution_count": 4,
     "metadata": {},
     "output_type": "execute_result"
    }
   ],
   "source": [
    "SOURCE = 'foosoft_sales_example.json'\n",
    "df = sqlContext.read.json(SOURCE)\n",
    "df.printSchema()\n",
    "df.count()"
   ]
  },
  {
   "cell_type": "code",
   "execution_count": 5,
   "metadata": {
    "collapsed": false
   },
   "outputs": [],
   "source": [
    "df.registerTempTable('sales')"
   ]
  },
  {
   "cell_type": "code",
   "execution_count": 23,
   "metadata": {
    "collapsed": false
   },
   "outputs": [
    {
     "data": {
      "text/html": [
       "<div>\n",
       "<table border=\"1\" class=\"dataframe\">\n",
       "  <thead>\n",
       "    <tr style=\"text-align: right;\">\n",
       "      <th></th>\n",
       "      <th>team</th>\n",
       "      <th>on_prem_sales</th>\n",
       "      <th>saas_sales</th>\n",
       "      <th>total_sales</th>\n",
       "    </tr>\n",
       "  </thead>\n",
       "  <tbody>\n",
       "    <tr>\n",
       "      <th>0</th>\n",
       "      <td>TEAM-3</td>\n",
       "      <td>614716.48</td>\n",
       "      <td>31458.27</td>\n",
       "      <td>646174.75</td>\n",
       "    </tr>\n",
       "    <tr>\n",
       "      <th>1</th>\n",
       "      <td>TEAM-5</td>\n",
       "      <td>390752.11</td>\n",
       "      <td>47103.48</td>\n",
       "      <td>437855.59</td>\n",
       "    </tr>\n",
       "    <tr>\n",
       "      <th>2</th>\n",
       "      <td>TEAM-1</td>\n",
       "      <td>403404.69</td>\n",
       "      <td>19842.66</td>\n",
       "      <td>423247.35</td>\n",
       "    </tr>\n",
       "    <tr>\n",
       "      <th>3</th>\n",
       "      <td>TEAM-2</td>\n",
       "      <td>328591.83</td>\n",
       "      <td>0.00</td>\n",
       "      <td>328591.83</td>\n",
       "    </tr>\n",
       "    <tr>\n",
       "      <th>4</th>\n",
       "      <td>TEAM-4</td>\n",
       "      <td>204476.49</td>\n",
       "      <td>0.00</td>\n",
       "      <td>204476.49</td>\n",
       "    </tr>\n",
       "  </tbody>\n",
       "</table>\n",
       "</div>"
      ],
      "text/plain": [
       "     team  on_prem_sales  saas_sales  total_sales\n",
       "0  TEAM-3      614716.48    31458.27    646174.75\n",
       "1  TEAM-5      390752.11    47103.48    437855.59\n",
       "2  TEAM-1      403404.69    19842.66    423247.35\n",
       "3  TEAM-2      328591.83        0.00    328591.83\n",
       "4  TEAM-4      204476.49        0.00    204476.49"
      ]
     },
     "execution_count": 23,
     "metadata": {},
     "output_type": "execute_result"
    }
   ],
   "source": [
    "df_sum = sqlContext.sql('''SELECT team, \n",
    "sum(on_prem) as on_prem_sales, \n",
    "sum(saas) as saas_sales, \n",
    "(sum(on_prem + saas)) as total_sales\n",
    "FROM sales \n",
    "GROUP BY team \n",
    "ORDER BY total_sales DESC''').toPandas()\n",
    "df_sum"
   ]
  },
  {
   "cell_type": "code",
   "execution_count": 24,
   "metadata": {
    "collapsed": false
   },
   "outputs": [
    {
     "data": {
      "text/html": [
       "<div>\n",
       "<table border=\"1\" class=\"dataframe\">\n",
       "  <thead>\n",
       "    <tr style=\"text-align: right;\">\n",
       "      <th></th>\n",
       "      <th>team</th>\n",
       "      <th>on_prem_avg</th>\n",
       "      <th>saas_avg</th>\n",
       "      <th>total_avg</th>\n",
       "    </tr>\n",
       "  </thead>\n",
       "  <tbody>\n",
       "    <tr>\n",
       "      <th>0</th>\n",
       "      <td>TEAM-1</td>\n",
       "      <td>57629.241429</td>\n",
       "      <td>2834.665714</td>\n",
       "      <td>60463.907143</td>\n",
       "    </tr>\n",
       "    <tr>\n",
       "      <th>1</th>\n",
       "      <td>TEAM-3</td>\n",
       "      <td>55883.316364</td>\n",
       "      <td>2859.842727</td>\n",
       "      <td>58743.159091</td>\n",
       "    </tr>\n",
       "    <tr>\n",
       "      <th>2</th>\n",
       "      <td>TEAM-2</td>\n",
       "      <td>54765.305000</td>\n",
       "      <td>0.000000</td>\n",
       "      <td>54765.305000</td>\n",
       "    </tr>\n",
       "    <tr>\n",
       "      <th>3</th>\n",
       "      <td>TEAM-5</td>\n",
       "      <td>43416.901111</td>\n",
       "      <td>5233.720000</td>\n",
       "      <td>48650.621111</td>\n",
       "    </tr>\n",
       "    <tr>\n",
       "      <th>4</th>\n",
       "      <td>TEAM-4</td>\n",
       "      <td>29210.927143</td>\n",
       "      <td>0.000000</td>\n",
       "      <td>29210.927143</td>\n",
       "    </tr>\n",
       "  </tbody>\n",
       "</table>\n",
       "</div>"
      ],
      "text/plain": [
       "     team   on_prem_avg     saas_avg     total_avg\n",
       "0  TEAM-1  57629.241429  2834.665714  60463.907143\n",
       "1  TEAM-3  55883.316364  2859.842727  58743.159091\n",
       "2  TEAM-2  54765.305000     0.000000  54765.305000\n",
       "3  TEAM-5  43416.901111  5233.720000  48650.621111\n",
       "4  TEAM-4  29210.927143     0.000000  29210.927143"
      ]
     },
     "execution_count": 24,
     "metadata": {},
     "output_type": "execute_result"
    }
   ],
   "source": [
    "df_unit = sqlContext.sql('''SELECT team, \n",
    "avg(on_prem) as on_prem_avg, \n",
    "avg(saas) as saas_avg, \n",
    "(avg(on_prem + saas)) as total_avg\n",
    "FROM sales \n",
    "GROUP BY team \n",
    "ORDER BY total_avg DESC''').toPandas()\n",
    "df_unit"
   ]
  },
  {
   "cell_type": "code",
   "execution_count": 35,
   "metadata": {
    "collapsed": false
   },
   "outputs": [
    {
     "data": {
      "text/html": [
       "<div>\n",
       "<table border=\"1\" class=\"dataframe\">\n",
       "  <thead>\n",
       "    <tr style=\"text-align: right;\">\n",
       "      <th></th>\n",
       "      <th>on_prem_sales</th>\n",
       "      <th>saas_sales</th>\n",
       "      <th>total_sales</th>\n",
       "    </tr>\n",
       "  </thead>\n",
       "  <tbody>\n",
       "    <tr>\n",
       "      <th>0</th>\n",
       "      <td>1.0</td>\n",
       "      <td>0.8</td>\n",
       "      <td>1.0</td>\n",
       "    </tr>\n",
       "    <tr>\n",
       "      <th>1</th>\n",
       "      <td>0.6</td>\n",
       "      <td>1.0</td>\n",
       "      <td>0.8</td>\n",
       "    </tr>\n",
       "    <tr>\n",
       "      <th>2</th>\n",
       "      <td>0.8</td>\n",
       "      <td>0.6</td>\n",
       "      <td>0.6</td>\n",
       "    </tr>\n",
       "    <tr>\n",
       "      <th>3</th>\n",
       "      <td>0.4</td>\n",
       "      <td>0.3</td>\n",
       "      <td>0.4</td>\n",
       "    </tr>\n",
       "    <tr>\n",
       "      <th>4</th>\n",
       "      <td>0.2</td>\n",
       "      <td>0.3</td>\n",
       "      <td>0.2</td>\n",
       "    </tr>\n",
       "  </tbody>\n",
       "</table>\n",
       "</div>"
      ],
      "text/plain": [
       "   on_prem_sales  saas_sales  total_sales\n",
       "0            1.0         0.8          1.0\n",
       "1            0.6         1.0          0.8\n",
       "2            0.8         0.6          0.6\n",
       "3            0.4         0.3          0.4\n",
       "4            0.2         0.3          0.2"
      ]
     },
     "execution_count": 35,
     "metadata": {},
     "output_type": "execute_result"
    }
   ],
   "source": [
    "df_sum.rank(numeric_only=True, pct=True)"
   ]
  },
  {
   "cell_type": "code",
   "execution_count": null,
   "metadata": {
    "collapsed": true
   },
   "outputs": [],
   "source": []
  }
 ],
 "metadata": {
  "kernelspec": {
   "display_name": "Python 2",
   "language": "python",
   "name": "python2"
  },
  "language_info": {
   "codemirror_mode": {
    "name": "ipython",
    "version": 2
   },
   "file_extension": ".py",
   "mimetype": "text/x-python",
   "name": "python",
   "nbconvert_exporter": "python",
   "pygments_lexer": "ipython2",
   "version": "2.7.10"
  }
 },
 "nbformat": 4,
 "nbformat_minor": 0
}
