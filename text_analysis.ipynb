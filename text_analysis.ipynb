{
 "cells": [
  {
   "cell_type": "code",
   "execution_count": 1,
   "metadata": {
    "collapsed": false
   },
   "outputs": [],
   "source": [
    "import findspark # You will need to pip install findspark\n",
    "findspark.init()"
   ]
  },
  {
   "cell_type": "code",
   "execution_count": 2,
   "metadata": {
    "collapsed": true
   },
   "outputs": [],
   "source": [
    "from pyspark import SparkContext"
   ]
  },
  {
   "cell_type": "code",
   "execution_count": 3,
   "metadata": {
    "collapsed": true
   },
   "outputs": [],
   "source": [
    "sc = SparkContext(\"local\", \"MyShell\") # Spark UI at http://localhost:4040/jobs/"
   ]
  },
  {
   "cell_type": "code",
   "execution_count": 4,
   "metadata": {
    "collapsed": true
   },
   "outputs": [],
   "source": [
    "textFile = sc.textFile(\"declaration.txt\")"
   ]
  },
  {
   "cell_type": "code",
   "execution_count": 5,
   "metadata": {
    "collapsed": false
   },
   "outputs": [
    {
     "data": {
      "text/plain": [
       "u\"When in the Course of human events, it becomes necessary for one people to dissolve the political bands which have connected them with another, and to assume among the powers of the earth, the separate and equal station to which the Laws of Nature and of Nature's God entitle them, a decent respect to the opinions of mankind requires that they should declare the causes which impel them to the separation.\""
      ]
     },
     "execution_count": 5,
     "metadata": {},
     "output_type": "execute_result"
    }
   ],
   "source": [
    "textFile.first()"
   ]
  },
  {
   "cell_type": "code",
   "execution_count": 6,
   "metadata": {
    "collapsed": false
   },
   "outputs": [
    {
     "data": {
      "text/plain": [
       "37"
      ]
     },
     "execution_count": 6,
     "metadata": {},
     "output_type": "execute_result"
    }
   ],
   "source": [
    "textFile.count()"
   ]
  },
  {
   "cell_type": "code",
   "execution_count": 12,
   "metadata": {
    "collapsed": false
   },
   "outputs": [],
   "source": [
    "wc = textFile.flatMap(lambda l: l.split()).map(lambda w: (w, 1)).reduceByKey(lambda a, b: a + b)"
   ]
  },
  {
   "cell_type": "code",
   "execution_count": 14,
   "metadata": {
    "collapsed": false
   },
   "outputs": [
    {
     "data": {
      "text/plain": [
       "[(u'&', 1),\n",
       " (u'--That', 1),\n",
       " (u'A', 1),\n",
       " (u'Absolved', 1),\n",
       " (u'Acts', 2),\n",
       " (u'Administration', 1),\n",
       " (u'Allegiance', 1),\n",
       " (u'Alliances,', 1),\n",
       " (u'America,', 1),\n",
       " (u'And', 1),\n",
       " (u'Annihilation,', 1),\n",
       " (u'Appropriations', 1),\n",
       " (u'Arbitrary', 1),\n",
       " (u'Armies', 2),\n",
       " (u'Arms', 1),\n",
       " (u'Assembled,', 1),\n",
       " (u'Assent', 4),\n",
       " (u'Authority', 1),\n",
       " (u'Boundaries', 1),\n",
       " (u'Brethren,', 1),\n",
       " (u'Britain', 1),\n",
       " (u'Britain,', 1),\n",
       " (u'British', 1),\n",
       " (u'Brittish', 1),\n",
       " (u'But', 1),\n",
       " (u'Captive', 1),\n",
       " (u'Charters,', 1),\n",
       " (u'Citizens', 1),\n",
       " (u'Civil', 1),\n",
       " (u'Coasts,', 1),\n",
       " (u'Colonies', 1),\n",
       " (u'Colonies,', 1),\n",
       " (u'Colonies:', 1),\n",
       " (u'Colonies;', 1),\n",
       " (u'Commerce,', 1),\n",
       " (u'Congress,', 1),\n",
       " (u'Consent', 1),\n",
       " (u'Consent:', 1),\n",
       " (u'Country,', 1),\n",
       " (u'Course', 1),\n",
       " (u'Creator', 1),\n",
       " (u'Crown,', 1),\n",
       " (u'Cruelty', 1),\n",
       " (u'Declaration,', 1),\n",
       " (u'Despotism,', 1),\n",
       " (u'Enemies', 1),\n",
       " (u'English', 1),\n",
       " (u'Facts', 1),\n",
       " (u'For', 9),\n",
       " (u'Foreigners;', 1),\n",
       " (u'Form', 1),\n",
       " (u'Forms', 1),\n",
       " (u'Fortunes', 1),\n",
       " (u'Free', 2),\n",
       " (u'Friends.', 1),\n",
       " (u'General', 1),\n",
       " (u'God', 1),\n",
       " (u'Government', 2),\n",
       " (u'Government,', 2),\n",
       " (u'Government.', 1),\n",
       " (u'Governments', 2),\n",
       " (u'Governments:', 1),\n",
       " (u'Governors', 1),\n",
       " (u'Great', 2),\n",
       " (u'Guards', 1),\n",
       " (u'Hands.', 1),\n",
       " (u'Happiness.', 1),\n",
       " (u'Happiness.--That', 1),\n",
       " (u'He', 18),\n",
       " (u'Head', 1),\n",
       " (u'Honor.', 1),\n",
       " (u'Houses', 1),\n",
       " (u'In', 1),\n",
       " (u'Independent', 3),\n",
       " (u'Indian', 1),\n",
       " (u'Inhabitants', 1),\n",
       " (u'Judge', 1),\n",
       " (u'Judges', 1),\n",
       " (u'Judiciary', 1),\n",
       " (u'Jury:', 1),\n",
       " (u'Justice,', 1),\n",
       " (u'King', 1),\n",
       " (u'Lands.', 1),\n",
       " (u'Laws', 6),\n",
       " (u'Laws,', 2),\n",
       " (u'Legislation:', 1),\n",
       " (u'Legislative', 1),\n",
       " (u'Legislature,', 1),\n",
       " (u'Legislatures,', 1),\n",
       " (u'Liberty', 1),\n",
       " (u'Life,', 1),\n",
       " (u'Lives,', 1),\n",
       " (u'Men,', 1),\n",
       " (u'Mercenaries', 1),\n",
       " (u'Military', 1),\n",
       " (u'Murders', 1),\n",
       " (u'Name,', 1),\n",
       " (u'Naturalization', 1),\n",
       " (u'Nature', 1),\n",
       " (u\"Nature's\", 1),\n",
       " (u'New', 1),\n",
       " (u'Nor', 1),\n",
       " (u'Object', 1),\n",
       " (u'Officers', 1),\n",
       " (u'Offices,', 1),\n",
       " (u'Oppressions', 1),\n",
       " (u'Our', 1),\n",
       " (u'Peace', 1),\n",
       " (u'Peace,', 1),\n",
       " (u'People', 3),\n",
       " (u'Petitioned', 1),\n",
       " (u'Petitions', 1),\n",
       " (u'Power', 1),\n",
       " (u'Prince', 1),\n",
       " (u'Protection', 1),\n",
       " (u'Providence,', 1),\n",
       " (u'Province,', 1),\n",
       " (u'Prudence,', 1),\n",
       " (u'Quartering', 1),\n",
       " (u'Records,', 1),\n",
       " (u'Redress', 1),\n",
       " (u'Representation', 1),\n",
       " (u'Representative', 1),\n",
       " (u'Representatives', 1),\n",
       " (u'Right', 2),\n",
       " (u'Rights,', 1),\n",
       " (u'Safety', 1),\n",
       " (u'Savages,', 1),\n",
       " (u'Seas', 2),\n",
       " (u'Separation,', 1),\n",
       " (u'Standing', 1),\n",
       " (u'State', 2),\n",
       " (u'States', 2),\n",
       " (u'States,', 1),\n",
       " (u'States.', 1),\n",
       " (u'States:', 1),\n",
       " (u'States;', 2),\n",
       " (u'Supreme', 1),\n",
       " (u'System', 1),\n",
       " (u'Systems', 1),\n",
       " (u'Taxes', 1),\n",
       " (u'That', 1),\n",
       " (u'The', 1),\n",
       " (u'They', 1),\n",
       " (u'Things', 1),\n",
       " (u'To', 1),\n",
       " (u'Trade', 1),\n",
       " (u'Trial', 1),\n",
       " (u'Trial,', 1),\n",
       " (u'Tyranny', 1),\n",
       " (u'Tyrant,', 1),\n",
       " (u'United', 1),\n",
       " (u'War', 1),\n",
       " (u'War,', 2),\n",
       " (u'We', 7),\n",
       " (u'We,', 1),\n",
       " (u'When', 1),\n",
       " (u'Will', 1),\n",
       " (u'a', 15),\n",
       " (u'abdicated', 1),\n",
       " (u'abolish', 1),\n",
       " (u'abolishing', 3),\n",
       " (u'absolute', 3),\n",
       " (u'abuses', 1),\n",
       " (u'accommodation', 1),\n",
       " (u'accordingly', 1),\n",
       " (u'accustomed.', 1),\n",
       " (u'acquiesce', 1),\n",
       " (u'act', 1),\n",
       " (u'affected', 1),\n",
       " (u'after', 1),\n",
       " (u'against', 2),\n",
       " (u'ages,', 2),\n",
       " (u'all', 10),\n",
       " (u'alone,', 1),\n",
       " (u'already', 1),\n",
       " (u'alter', 2),\n",
       " (u'altering', 1),\n",
       " (u'among', 5),\n",
       " (u'amongst', 1),\n",
       " (u'amount', 1),\n",
       " (u'an', 5),\n",
       " (u'and', 55),\n",
       " (u'another,', 1),\n",
       " (u'answered', 1),\n",
       " (u'any', 2),\n",
       " (u'appealed', 1),\n",
       " (u'appealing', 1),\n",
       " (u'are', 8),\n",
       " (u'are,', 1),\n",
       " (u'armed', 1),\n",
       " (u'as', 4),\n",
       " (u'assume', 1),\n",
       " (u'at', 4),\n",
       " (u'attempts', 1),\n",
       " (u'attend', 1),\n",
       " (u'attentions', 1),\n",
       " (u'away', 1),\n",
       " (u'bands', 1),\n",
       " (u'barbarous', 1),\n",
       " (u'be', 9),\n",
       " (u'bear', 1),\n",
       " (u'become', 1),\n",
       " (u'becomes', 2),\n",
       " (u'been', 4),\n",
       " (u'begun', 1),\n",
       " (u'benefits', 1),\n",
       " (u'between', 1),\n",
       " (u'beyond', 1),\n",
       " (u'bodies', 2),\n",
       " (u'brethren.', 1),\n",
       " (u'bring', 1),\n",
       " (u'burnt', 1),\n",
       " (u'by', 13),\n",
       " (u'called', 1),\n",
       " (u'candid', 1),\n",
       " (u'cases', 1),\n",
       " (u'cases,', 1),\n",
       " (u'cause', 1),\n",
       " (u'causes', 1),\n",
       " (u'causes;', 1),\n",
       " (u'certain', 1),\n",
       " (u'changed', 1),\n",
       " (u'character', 1),\n",
       " (u'circumstances', 2),\n",
       " (u'civilized', 1),\n",
       " (u'combined', 1),\n",
       " (u'commit', 1),\n",
       " (u'common', 1),\n",
       " (u'compleat', 1),\n",
       " (u'compliance', 1),\n",
       " (u'conclude', 1),\n",
       " (u'conditions', 1),\n",
       " (u'conditions.', 1),\n",
       " (u'conjured', 1),\n",
       " (u'connected', 1),\n",
       " (u'connection', 1),\n",
       " (u'connections', 1),\n",
       " (u'consanguinity.', 1),\n",
       " (u'consent', 1),\n",
       " (u'constitution,', 1),\n",
       " (u'constrained', 1),\n",
       " (u'constrains', 1),\n",
       " (u'contract', 1),\n",
       " (u'convulsions', 1),\n",
       " (u'correspondence.', 1),\n",
       " (u'created', 1),\n",
       " (u'cutting', 1),\n",
       " (u'dangers', 1),\n",
       " (u'deaf', 1),\n",
       " (u'death,', 1),\n",
       " (u'decent', 1),\n",
       " (u'declare', 1),\n",
       " (u'declare,', 1),\n",
       " (u'declaring', 2),\n",
       " (u'define', 1),\n",
       " (u'denounces', 1),\n",
       " (u'dependent', 1),\n",
       " (u'depository', 1),\n",
       " (u'depriving', 1),\n",
       " (u'deriving', 1),\n",
       " (u'design', 1),\n",
       " (u'desolation', 1),\n",
       " (u'destroyed', 1),\n",
       " (u'destruction', 1),\n",
       " (u'destructive', 1),\n",
       " (u'dictate', 1),\n",
       " (u'direct', 1),\n",
       " (u'disavow', 1),\n",
       " (u'disposed', 1),\n",
       " (u'dissolutions,', 1),\n",
       " (u'dissolve', 1),\n",
       " (u'dissolved', 1),\n",
       " (u'dissolved;', 1),\n",
       " (u'distant', 1),\n",
       " (u'districts', 1),\n",
       " (u'divine', 1),\n",
       " (u'do', 1),\n",
       " (u'do,', 1),\n",
       " (u'do.', 1),\n",
       " (u'domestic', 1),\n",
       " (u'duty,', 1),\n",
       " (u'each', 1),\n",
       " (u'earth,', 1),\n",
       " (u'eat', 1),\n",
       " (u'effect', 1),\n",
       " (u'elected;', 1),\n",
       " (u'emigration', 1),\n",
       " (u'encourage', 1),\n",
       " (u'endeavoured', 2),\n",
       " (u'endowed', 1),\n",
       " (u'ends,', 1),\n",
       " (u'enlarging', 1),\n",
       " (u'entitle', 1),\n",
       " (u'equal', 1),\n",
       " (u'equal,', 1),\n",
       " (u'erected', 1),\n",
       " (u'establish', 1),\n",
       " (u'established', 1),\n",
       " (u'establishing', 2),\n",
       " (u'establishment', 1),\n",
       " (u'events,', 1),\n",
       " (u'every', 2),\n",
       " (u'evils', 1),\n",
       " (u'evinces', 1),\n",
       " (u'example', 1),\n",
       " (u'excited', 1),\n",
       " (u'executioners', 1),\n",
       " (u'exercise;', 1),\n",
       " (u'experience', 1),\n",
       " (u'exposed', 1),\n",
       " (u'extend', 1),\n",
       " (u'fall', 1),\n",
       " (u'fatiguing', 1),\n",
       " (u'fellow', 1),\n",
       " (u'firm', 1),\n",
       " (u'firmness', 1),\n",
       " (u'fit', 1),\n",
       " (u'for', 20),\n",
       " (u'forbidden', 1),\n",
       " (u'foreign', 2),\n",
       " (u'form,', 1),\n",
       " (u'former', 1),\n",
       " (u'formidable', 1),\n",
       " (u'forms', 1),\n",
       " (u'foundation', 1),\n",
       " (u'free', 2),\n",
       " (u'friends', 1),\n",
       " (u'from', 6),\n",
       " (u'frontiers,', 1),\n",
       " (u'full', 1),\n",
       " (u'fundamentally', 1),\n",
       " (u'future', 1),\n",
       " (u'giving', 1),\n",
       " (u'good', 1),\n",
       " (u'good.', 1),\n",
       " (u'governed,', 1),\n",
       " (u'government,', 1),\n",
       " (u'harrass', 1),\n",
       " (u'has', 20),\n",
       " (u'hath', 1),\n",
       " (u'have', 11),\n",
       " (u'having', 1),\n",
       " (u'he', 1),\n",
       " (u'here,', 1),\n",
       " (u'here.', 1),\n",
       " (u'high', 1),\n",
       " (u'his', 9),\n",
       " (u'history', 2),\n",
       " (u'hither', 1),\n",
       " (u'hither,', 1),\n",
       " (u'hold', 3),\n",
       " (u'human', 1),\n",
       " (u'humble', 1),\n",
       " (u'immediate', 1),\n",
       " (u'impel', 1),\n",
       " (u'importance,', 1),\n",
       " (u'imposing', 1),\n",
       " (u'in', 18),\n",
       " (u'incapable', 1),\n",
       " (u'indeed,', 1),\n",
       " (u'independent', 1),\n",
       " (u'inestimable', 1),\n",
       " (u'inevitably', 1),\n",
       " (u'inhabitants', 1),\n",
       " (u'injuries', 1),\n",
       " (u'injury.', 1),\n",
       " (u'institute', 1),\n",
       " (u'instituted', 1),\n",
       " (u'instrument', 1),\n",
       " (u'insurrections', 1),\n",
       " (u'intentions,', 1),\n",
       " (u'interrupt', 1),\n",
       " (u'into', 2),\n",
       " (u'introducing', 1),\n",
       " (u'invariably', 1),\n",
       " (u'invasion', 1),\n",
       " (u'invasions', 1),\n",
       " (u'invested', 1),\n",
       " (u'is', 10),\n",
       " (u'it', 5),\n",
       " (u'it,', 1),\n",
       " (u'its', 3),\n",
       " (u'jurisdiction', 2),\n",
       " (u'just', 1),\n",
       " (u'justice', 2),\n",
       " (u'kept', 1),\n",
       " (u'kindred', 1),\n",
       " (u'known', 1),\n",
       " (u'large', 4),\n",
       " (u'laws;', 1),\n",
       " (u'laying', 1),\n",
       " (u'legislate', 1),\n",
       " (u'legislative', 1),\n",
       " (u'legislature', 1),\n",
       " (u'legislatures.', 1),\n",
       " (u'let', 1),\n",
       " (u'levy', 1),\n",
       " (u'light', 1),\n",
       " (u'likely', 1),\n",
       " (u'lives', 1),\n",
       " (u'long', 3),\n",
       " (u'made', 1),\n",
       " (u'magnanimity,', 1),\n",
       " (u'mankind', 2),\n",
       " (u'mankind,', 1),\n",
       " (u'manly', 1),\n",
       " (u'many', 1),\n",
       " (u'marked', 1),\n",
       " (u'may', 2),\n",
       " (u'mean', 1),\n",
       " (u'measures.', 1),\n",
       " (u'men', 1),\n",
       " (u'merciless', 1),\n",
       " (u'migrations', 1),\n",
       " (u'mock', 1),\n",
       " (u'more', 1),\n",
       " (u'most', 5),\n",
       " (u'multitude', 1),\n",
       " (u'must,', 1),\n",
       " (u'mutually', 1),\n",
       " (u'nation.', 1),\n",
       " (u'native', 1),\n",
       " (u'necessary', 2),\n",
       " (u'necessity', 1),\n",
       " (u'necessity,', 1),\n",
       " (u'neglected', 1),\n",
       " (u'neighbouring', 1),\n",
       " (u'new', 3),\n",
       " (u'not', 1),\n",
       " (u'now', 1),\n",
       " (u'object', 1),\n",
       " (u'obstructed', 1),\n",
       " (u'obstructing', 1),\n",
       " (u'obtained;', 1),\n",
       " (u'of', 76),\n",
       " (u'off', 2),\n",
       " (u'offences', 1),\n",
       " (u'offices,', 1),\n",
       " (u'on', 8),\n",
       " (u'once', 1),\n",
       " (u'one', 1),\n",
       " (u'only', 1),\n",
       " (u'only.', 1),\n",
       " (u'operation', 1),\n",
       " (u'opinions', 1),\n",
       " (u'opposing', 1),\n",
       " (u'or', 2),\n",
       " (u'organizing', 1),\n",
       " (u'other', 3),\n",
       " (u'others', 3),\n",
       " (u'ought', 2),\n",
       " (u'our', 25),\n",
       " (u'out', 2),\n",
       " (u'over', 2),\n",
       " (u'own', 1),\n",
       " (u'paralleled', 1),\n",
       " (u'parts', 1),\n",
       " (u'pass', 3),\n",
       " (u'patient', 1),\n",
       " (u'payment', 1),\n",
       " (u'peace,', 1),\n",
       " (u'people', 2),\n",
       " (u'people,', 2),\n",
       " (u'people.', 3),\n",
       " (u'perfidy', 1),\n",
       " (u'places', 1),\n",
       " (u'pledge', 1),\n",
       " (u'plundered', 1),\n",
       " (u'political', 2),\n",
       " (u'population', 1),\n",
       " (u'power', 1),\n",
       " (u'power.', 1),\n",
       " (u'powers', 3),\n",
       " (u'powers,', 1),\n",
       " (u'powers.', 1),\n",
       " (u'present', 1),\n",
       " (u'pressing', 1),\n",
       " (u'pretended', 2),\n",
       " (u'prevent', 1),\n",
       " (u'principles', 1),\n",
       " (u'protecting', 1),\n",
       " (u'protection', 1),\n",
       " (u'prove', 1),\n",
       " (u'provide', 1),\n",
       " (u'public', 2),\n",
       " (u'publish', 1),\n",
       " (u'punishment', 1),\n",
       " (u'purpose', 2),\n",
       " (u'pursuing', 1),\n",
       " (u'pursuit', 1),\n",
       " (u'raising', 1),\n",
       " (u'ravaged', 1),\n",
       " (u'rectitude', 1),\n",
       " (u'reduce', 1),\n",
       " (u'refused', 3),\n",
       " (u'refusing', 2),\n",
       " (u'reliance', 1),\n",
       " (u'relinquish', 1),\n",
       " (u'remaining', 1),\n",
       " (u'reminded', 1),\n",
       " (u'render', 2),\n",
       " (u'repeated', 3),\n",
       " (u'repeatedly,', 1),\n",
       " (u'requires', 1),\n",
       " (u'respect', 1),\n",
       " (u'rest', 1),\n",
       " (u'returned', 1),\n",
       " (u'right', 4),\n",
       " (u'right,', 1),\n",
       " (u'rights', 1),\n",
       " (u'rights,', 1),\n",
       " (u'rule', 2),\n",
       " (u'ruler', 1),\n",
       " (u'sacred', 1),\n",
       " (u'salaries.', 1),\n",
       " (u'same', 2),\n",
       " (u'scarcely', 1),\n",
       " (u'seas,', 1),\n",
       " (u'secure', 1),\n",
       " (u'security.--Such', 1),\n",
       " (u'seem', 1),\n",
       " (u'self-evident,', 1),\n",
       " (u'sent', 1),\n",
       " (u'separate', 1),\n",
       " (u'separation.', 1),\n",
       " (u'settlement', 1),\n",
       " (u'sexes', 1),\n",
       " (u'shall', 1),\n",
       " (u'shewn,', 1),\n",
       " (u'should', 4),\n",
       " (u'so', 2),\n",
       " (u'sole', 1),\n",
       " (u'solemnly', 1),\n",
       " (u'stage', 1),\n",
       " (u'station', 1),\n",
       " (u'subject', 1),\n",
       " (u'submitted', 1),\n",
       " (u'substance.', 1),\n",
       " (u'such', 5),\n",
       " (u'suffer,', 1),\n",
       " (u'sufferable,', 1),\n",
       " (u'sufferance', 1),\n",
       " (u'superior', 1),\n",
       " (u'support', 1),\n",
       " (u'suspended', 1),\n",
       " (u'suspended,', 1),\n",
       " (u'suspending', 1),\n",
       " (u'swarms', 1),\n",
       " (u'taken', 1),\n",
       " (u'taking', 1),\n",
       " (u'tenure', 1),\n",
       " (u'terms:', 1),\n",
       " (u'than', 1),\n",
       " (u'that', 10),\n",
       " (u'the', 75),\n",
       " (u'their', 20),\n",
       " (u'them', 11),\n",
       " (u'them,', 3),\n",
       " (u'them.', 1),\n",
       " (u'themselves', 3),\n",
       " (u'therefore,', 2),\n",
       " (u'therein', 1),\n",
       " (u'these', 13),\n",
       " (u'they', 6),\n",
       " (u'this', 2),\n",
       " (u'this,', 1),\n",
       " (u'those', 1),\n",
       " (u'throw', 1),\n",
       " (u'thus', 1),\n",
       " (u'ties', 1),\n",
       " (u'till', 1),\n",
       " (u'time', 4),\n",
       " (u'time,', 1),\n",
       " (u'times', 1),\n",
       " (u'to', 64),\n",
       " (u'together', 1),\n",
       " (u'too', 1),\n",
       " (u'totally', 2),\n",
       " (u'towns,', 1),\n",
       " (u'train', 1),\n",
       " (u'transient', 1),\n",
       " (u'transporting', 2),\n",
       " (u'tried', 1),\n",
       " (u'troops', 1),\n",
       " (u'truths', 1),\n",
       " (u'tyranny,', 1),\n",
       " (u'tyrants', 1),\n",
       " (u'unacknowledged', 1),\n",
       " (u'unalienable', 1),\n",
       " (u'uncomfortable,', 1),\n",
       " (u'under', 1),\n",
       " (u'undistinguished', 1),\n",
       " (u'unfit', 1),\n",
       " (u'united', 1),\n",
       " (u'unless', 2),\n",
       " (u'unusual,', 1),\n",
       " (u'unwarrantable', 1),\n",
       " (u'unworthy', 1),\n",
       " (u'us', 6),\n",
       " (u'us,', 2),\n",
       " (u'us.', 2),\n",
       " (u'us:', 1),\n",
       " (u'usurpations,', 3),\n",
       " (u'utterly', 1),\n",
       " (u'valuable', 1),\n",
       " (u'voice', 1),\n",
       " (u'waging', 1),\n",
       " (u'wanting', 1),\n",
       " (u'warfare,', 1),\n",
       " (u'warned', 1),\n",
       " (u'we', 3),\n",
       " (u'whatsoever.', 1),\n",
       " (u'when', 2),\n",
       " (u'whenever', 1),\n",
       " (u'whereby', 1),\n",
       " (u'which', 9),\n",
       " (u'which,', 1),\n",
       " (u'while', 1),\n",
       " (u'wholesome', 1),\n",
       " (u'whose', 2),\n",
       " (u'will', 1),\n",
       " (u'with', 9),\n",
       " (u'within.', 1),\n",
       " (u'without', 2),\n",
       " (u'without,', 1),\n",
       " (u'works', 1),\n",
       " (u'world', 1),\n",
       " (u'world.', 1),\n",
       " (u'world:', 1),\n",
       " (u'would', 2)]"
      ]
     },
     "execution_count": 14,
     "metadata": {},
     "output_type": "execute_result"
    }
   ],
   "source": [
    "sorted(wc.collect())"
   ]
  },
  {
   "cell_type": "code",
   "execution_count": 4,
   "metadata": {
    "collapsed": true
   },
   "outputs": [],
   "source": [
    "#####"
   ]
  },
  {
   "cell_type": "code",
   "execution_count": 5,
   "metadata": {
    "collapsed": true
   },
   "outputs": [],
   "source": [
    "wordsList = ['cat', 'elephant', 'rat', 'rat', 'cat']\n",
    "wordsRDD = sc.parallelize(wordsList, 4)\n",
    "type(wordsRDD)"
   ]
  },
  {
   "cell_type": "code",
   "execution_count": 23,
   "metadata": {
    "collapsed": true
   },
   "outputs": [],
   "source": [
    "def makePlural(word):\n",
    "    \"\"\"Adds and 's' to 'word'\"\"\"\n",
    "    return str(word) + 's'\n",
    "assert makePlural(\"rat\") == \"rats\"\n",
    "assert makePlural(1) == \"1s\"\n",
    "assert makePlural(1.0) == \"1.0s\"\n",
    "assert makePlural(None) == \"Nones\""
   ]
  },
  {
   "cell_type": "code",
   "execution_count": 25,
   "metadata": {
    "collapsed": false
   },
   "outputs": [
    {
     "data": {
      "text/plain": [
       "['cats', 'elephants', 'rats', 'rats', 'cats']"
      ]
     },
     "execution_count": 25,
     "metadata": {},
     "output_type": "execute_result"
    }
   ],
   "source": [
    "wordsRDD.map(makePlural).collect()"
   ]
  },
  {
   "cell_type": "code",
   "execution_count": 26,
   "metadata": {
    "collapsed": false
   },
   "outputs": [
    {
     "data": {
      "text/plain": [
       "['cats', 'elephants', 'rats', 'rats', 'cats']"
      ]
     },
     "execution_count": 26,
     "metadata": {},
     "output_type": "execute_result"
    }
   ],
   "source": [
    "wordsRDD.map(lambda x: str(x) + 's').collect()"
   ]
  },
  {
   "cell_type": "code",
   "execution_count": 27,
   "metadata": {
    "collapsed": false
   },
   "outputs": [
    {
     "data": {
      "text/plain": [
       "[3, 8, 3, 3, 3]"
      ]
     },
     "execution_count": 27,
     "metadata": {},
     "output_type": "execute_result"
    }
   ],
   "source": [
    "wordsRDD.map(lambda x: len(x)).collect()"
   ]
  },
  {
   "cell_type": "code",
   "execution_count": 28,
   "metadata": {
    "collapsed": false
   },
   "outputs": [
    {
     "data": {
      "text/plain": [
       "[4, 9, 4, 4, 4]"
      ]
     },
     "execution_count": 28,
     "metadata": {},
     "output_type": "execute_result"
    }
   ],
   "source": [
    "wordsRDD.map(lambda x: str(x) + 's').map(lambda x: len(x)).collect()"
   ]
  },
  {
   "cell_type": "code",
   "execution_count": 31,
   "metadata": {
    "collapsed": false
   },
   "outputs": [
    {
     "data": {
      "text/plain": [
       "[('cat', 1), ('elephant', 1), ('rat', 1), ('rat', 1), ('cat', 1)]"
      ]
     },
     "execution_count": 31,
     "metadata": {},
     "output_type": "execute_result"
    }
   ],
   "source": [
    "wordPairs = wordsRDD.map(lambda x: (x, 1))\n",
    "wordPairs.collect()"
   ]
  },
  {
   "cell_type": "code",
   "execution_count": 32,
   "metadata": {
    "collapsed": false
   },
   "outputs": [
    {
     "data": {
      "text/plain": [
       "[('rat', 2), ('elephant', 1), ('cat', 2)]"
      ]
     },
     "execution_count": 32,
     "metadata": {},
     "output_type": "execute_result"
    }
   ],
   "source": [
    "from operator import add\n",
    "wordPairs.reduceByKey(add).collect()"
   ]
  },
  {
   "cell_type": "code",
   "execution_count": 33,
   "metadata": {
    "collapsed": false
   },
   "outputs": [
    {
     "data": {
      "text/plain": [
       "['rat', 'elephant', 'cat']"
      ]
     },
     "execution_count": 33,
     "metadata": {},
     "output_type": "execute_result"
    }
   ],
   "source": [
    "wordPairs.reduceByKey(add).map(lambda (x, y): x).collect()"
   ]
  },
  {
   "cell_type": "code",
   "execution_count": 34,
   "metadata": {
    "collapsed": false
   },
   "outputs": [
    {
     "data": {
      "text/plain": [
       "['rat', 'elephant', 'cat']"
      ]
     },
     "execution_count": 34,
     "metadata": {},
     "output_type": "execute_result"
    }
   ],
   "source": [
    "wordPairs.reduceByKey(add).keys().collect()"
   ]
  },
  {
   "cell_type": "code",
   "execution_count": 35,
   "metadata": {
    "collapsed": false
   },
   "outputs": [
    {
     "data": {
      "text/plain": [
       "3"
      ]
     },
     "execution_count": 35,
     "metadata": {},
     "output_type": "execute_result"
    }
   ],
   "source": [
    "uniqueWordCount = wordPairs.reduceByKey(add).keys().count()\n",
    "uniqueWordCount"
   ]
  },
  {
   "cell_type": "code",
   "execution_count": 36,
   "metadata": {
    "collapsed": false
   },
   "outputs": [
    {
     "data": {
      "text/plain": [
       "[('rat', 3), ('elephant', 8), ('cat', 3)]"
      ]
     },
     "execution_count": 36,
     "metadata": {},
     "output_type": "execute_result"
    }
   ],
   "source": [
    "wordPairs.reduceByKey(add).map(lambda (x, y): (x, len(x))).collect()"
   ]
  },
  {
   "cell_type": "code",
   "execution_count": 43,
   "metadata": {
    "collapsed": false
   },
   "outputs": [
    {
     "data": {
      "text/plain": [
       "[('rat', 3), ('elephant', 8), ('cat', 3)]"
      ]
     },
     "execution_count": 43,
     "metadata": {},
     "output_type": "execute_result"
    }
   ],
   "source": [
    "wordPairs.reduceByKey(add).map(lambda (x, y): (x, len(x))).collect()"
   ]
  },
  {
   "cell_type": "code",
   "execution_count": null,
   "metadata": {
    "collapsed": true
   },
   "outputs": [],
   "source": []
  }
 ],
 "metadata": {
  "kernelspec": {
   "display_name": "Python 2",
   "language": "python",
   "name": "python2"
  },
  "language_info": {
   "codemirror_mode": {
    "name": "ipython",
    "version": 2
   },
   "file_extension": ".py",
   "mimetype": "text/x-python",
   "name": "python",
   "nbconvert_exporter": "python",
   "pygments_lexer": "ipython2",
   "version": "2.7.10"
  }
 },
 "nbformat": 4,
 "nbformat_minor": 0
}
