{
 "cells": [
  {
   "cell_type": "code",
   "execution_count": 1,
   "metadata": {
    "collapsed": false
   },
   "outputs": [],
   "source": [
    "import findspark # You will need to pip install findspark\n",
    "findspark.init()"
   ]
  },
  {
   "cell_type": "code",
   "execution_count": 2,
   "metadata": {
    "collapsed": false
   },
   "outputs": [],
   "source": [
    "from pyspark import SparkContext\n",
    "sc = SparkContext(\"local\", \"MyShell\") # Spark UI at http://localhost:4040/jobs/\n"
   ]
  },
  {
   "cell_type": "code",
   "execution_count": 3,
   "metadata": {
    "collapsed": true
   },
   "outputs": [],
   "source": [
    "from pyspark.sql import SQLContext\n",
    "sqlContext = SQLContext(sc)"
   ]
  },
  {
   "cell_type": "code",
   "execution_count": 50,
   "metadata": {
    "collapsed": false
   },
   "outputs": [],
   "source": [
    "sources = \"file:///Users/jim/DEV/pyspark_notebooks/resources/test_cases/100/Test10*_*.*\"\n",
    "df = sqlContext.read.json(sources)"
   ]
  },
  {
   "cell_type": "code",
   "execution_count": 51,
   "metadata": {
    "collapsed": false
   },
   "outputs": [
    {
     "name": "stdout",
     "output_type": "stream",
     "text": [
      "root\n",
      " |-- events: struct (nullable = true)\n",
      " |    |-- DeliveryLocationArrival: struct (nullable = true)\n",
      " |    |    |-- reasonCode: string (nullable = true)\n",
      " |    |    |-- sourceType: string (nullable = true)\n",
      " |    |-- GeolocationUpdate: struct (nullable = true)\n",
      " |    |    |-- fromAddress: struct (nullable = true)\n",
      " |    |    |    |-- city: string (nullable = true)\n",
      " |    |    |    |-- countryCode: string (nullable = true)\n",
      " |    |    |    |-- name: string (nullable = true)\n",
      " |    |    |    |-- postalCode: string (nullable = true)\n",
      " |    |    |    |-- stateCode: string (nullable = true)\n",
      " |    |    |    |-- street: string (nullable = true)\n",
      " |    |    |-- latitude: double (nullable = true)\n",
      " |    |    |-- longitude: double (nullable = true)\n",
      " |    |    |-- reasonCode: string (nullable = true)\n",
      " |    |    |-- sourceType: string (nullable = true)\n",
      " |    |    |-- toAddress: struct (nullable = true)\n",
      " |    |    |    |-- city: string (nullable = true)\n",
      " |    |    |    |-- countryCode: string (nullable = true)\n",
      " |    |    |    |-- name: string (nullable = true)\n",
      " |    |    |    |-- postalCode: string (nullable = true)\n",
      " |    |    |    |-- stateCode: string (nullable = true)\n",
      " |    |    |    |-- street: string (nullable = true)\n",
      " |    |-- PickUpLocationDeparture: struct (nullable = true)\n",
      " |    |    |-- reasonCode: string (nullable = true)\n",
      " |    |    |-- sourceType: string (nullable = true)\n",
      " |    |-- ShipmentDeliveryEstimate: struct (nullable = true)\n",
      " |    |    |-- operatorEstimate: string (nullable = true)\n",
      " |    |    |-- reasonCode: string (nullable = true)\n",
      " |    |    |-- sourceType: string (nullable = true)\n",
      " |    |-- ShipmentEnd: struct (nullable = true)\n",
      " |    |    |-- reasonCode: string (nullable = true)\n",
      " |    |    |-- shipmentId: string (nullable = true)\n",
      " |    |    |-- sourceType: string (nullable = true)\n",
      " |    |    |-- summary: struct (nullable = true)\n",
      " |    |    |    |-- actualEnd: string (nullable = true)\n",
      " |    |    |    |-- fromPoiId: long (nullable = true)\n",
      " |    |    |    |-- fromPoiName: string (nullable = true)\n",
      " |    |    |    |-- plannedEnd: string (nullable = true)\n",
      " |    |    |    |-- toPoiId: long (nullable = true)\n",
      " |    |    |    |-- toPoiName: string (nullable = true)\n",
      " |    |    |-- systemId: string (nullable = true)\n",
      " |    |-- ShipmentStart: struct (nullable = true)\n",
      " |    |    |-- legCount: long (nullable = true)\n",
      " |    |    |-- legs: array (nullable = true)\n",
      " |    |    |    |-- element: struct (containsNull = true)\n",
      " |    |    |    |    |-- carrierAlphaCode: string (nullable = true)\n",
      " |    |    |    |    |-- etaAlertThreshold: long (nullable = true)\n",
      " |    |    |    |    |-- etaNoticeThreshold: long (nullable = true)\n",
      " |    |    |    |    |-- etaSubscriber: string (nullable = true)\n",
      " |    |    |    |    |-- etaWarningThreshold: long (nullable = true)\n",
      " |    |    |    |    |-- fromPoiId: long (nullable = true)\n",
      " |    |    |    |    |-- fromPoiName: string (nullable = true)\n",
      " |    |    |    |    |-- geoDriftThreshold: long (nullable = true)\n",
      " |    |    |    |    |-- geoWarpThreshold: long (nullable = true)\n",
      " |    |    |    |    |-- legNumber: long (nullable = true)\n",
      " |    |    |    |    |-- mode: string (nullable = true)\n",
      " |    |    |    |    |-- toPoiId: long (nullable = true)\n",
      " |    |    |    |    |-- toPoiName: string (nullable = true)\n",
      " |    |    |    |    |-- toStopNum: long (nullable = true)\n",
      " |    |    |    |    |-- vesselId: string (nullable = true)\n",
      " |    |    |-- parties: struct (nullable = true)\n",
      " |    |    |    |-- carriers: array (nullable = true)\n",
      " |    |    |    |    |-- element: string (containsNull = true)\n",
      " |    |    |    |-- customers: array (nullable = true)\n",
      " |    |    |    |    |-- element: string (containsNull = true)\n",
      " |    |    |    |-- divisions: array (nullable = true)\n",
      " |    |    |    |    |-- element: string (containsNull = true)\n",
      " |    |    |    |-- suppliers: array (nullable = true)\n",
      " |    |    |    |    |-- element: string (containsNull = true)\n",
      " |    |    |-- reasonCode: string (nullable = true)\n",
      " |    |    |-- referenceIds: array (nullable = true)\n",
      " |    |    |    |-- element: string (containsNull = true)\n",
      " |    |    |-- shipmentId: string (nullable = true)\n",
      " |    |    |-- shippingPointFences: string (nullable = true)\n",
      " |    |    |-- shippingPointMarkers: string (nullable = true)\n",
      " |    |    |-- shippingPoints: array (nullable = true)\n",
      " |    |    |    |-- element: struct (containsNull = true)\n",
      " |    |    |    |    |-- poiId: long (nullable = true)\n",
      " |    |    |    |    |-- poiName: string (nullable = true)\n",
      " |    |    |    |    |-- stopNumber: long (nullable = true)\n",
      " |    |    |-- sourceType: string (nullable = true)\n",
      " |    |    |-- summary: struct (nullable = true)\n",
      " |    |    |    |-- actualStart: string (nullable = true)\n",
      " |    |    |    |-- etaSubscriber: string (nullable = true)\n",
      " |    |    |    |-- fromPoiId: long (nullable = true)\n",
      " |    |    |    |-- fromPoiName: string (nullable = true)\n",
      " |    |    |    |-- plannedEnd: string (nullable = true)\n",
      " |    |    |    |-- toPoiId: long (nullable = true)\n",
      " |    |    |    |-- toPoiName: string (nullable = true)\n",
      " |    |    |-- systemId: string (nullable = true)\n",
      " |-- geolocation: struct (nullable = true)\n",
      " |    |-- geolocationMethods: array (nullable = true)\n",
      " |    |    |-- element: string (containsNull = true)\n",
      " |    |-- latitude: double (nullable = true)\n",
      " |    |-- longitude: double (nullable = true)\n",
      " |    |-- sourceType: string (nullable = true)\n",
      " |-- paired: struct (nullable = true)\n",
      " |    |-- carrier: string (nullable = true)\n",
      " |    |-- shipmentId: string (nullable = true)\n",
      " |    |-- shipper: string (nullable = true)\n",
      " |    |-- systemId: string (nullable = true)\n",
      " |    |-- vesselId: string (nullable = true)\n",
      " |-- timestamp: struct (nullable = true)\n",
      " |    |-- asOf: string (nullable = true)\n",
      " |    |-- collected: string (nullable = true)\n",
      " |    |-- processed: string (nullable = true)\n",
      " |    |-- received: string (nullable = true)\n",
      " |-- version: string (nullable = true)\n",
      "\n"
     ]
    }
   ],
   "source": [
    "df.printSchema()"
   ]
  },
  {
   "cell_type": "code",
   "execution_count": 75,
   "metadata": {
    "collapsed": false
   },
   "outputs": [],
   "source": [
    "shipments = df['paired']['shipmentId']"
   ]
  },
  {
   "cell_type": "code",
   "execution_count": 76,
   "metadata": {
    "collapsed": false
   },
   "outputs": [
    {
     "ename": "TypeError",
     "evalue": "Column is not iterable",
     "output_type": "error",
     "traceback": [
      "\u001b[0;31m---------------------------------------------------------------------------\u001b[0m",
      "\u001b[0;31mTypeError\u001b[0m                                 Traceback (most recent call last)",
      "\u001b[0;32m<ipython-input-76-ef41488160c1>\u001b[0m in \u001b[0;36m<module>\u001b[0;34m()\u001b[0m\n\u001b[0;32m----> 1\u001b[0;31m \u001b[0;32mfor\u001b[0m \u001b[0ms\u001b[0m \u001b[0;32min\u001b[0m \u001b[0mshipments\u001b[0m\u001b[0;34m:\u001b[0m\u001b[0;34m\u001b[0m\u001b[0m\n\u001b[0m\u001b[1;32m      2\u001b[0m     \u001b[0;32mprint\u001b[0m \u001b[0ms\u001b[0m\u001b[0;34m\u001b[0m\u001b[0m\n",
      "\u001b[0;32m/usr/local/opt/apache-spark/libexec/python/pyspark/sql/column.pyc\u001b[0m in \u001b[0;36m__iter__\u001b[0;34m(self)\u001b[0m\n\u001b[1;32m    241\u001b[0m \u001b[0;34m\u001b[0m\u001b[0m\n\u001b[1;32m    242\u001b[0m     \u001b[0;32mdef\u001b[0m \u001b[0m__iter__\u001b[0m\u001b[0;34m(\u001b[0m\u001b[0mself\u001b[0m\u001b[0;34m)\u001b[0m\u001b[0;34m:\u001b[0m\u001b[0;34m\u001b[0m\u001b[0m\n\u001b[0;32m--> 243\u001b[0;31m         \u001b[0;32mraise\u001b[0m \u001b[0mTypeError\u001b[0m\u001b[0;34m(\u001b[0m\u001b[0;34m\"Column is not iterable\"\u001b[0m\u001b[0;34m)\u001b[0m\u001b[0;34m\u001b[0m\u001b[0m\n\u001b[0m\u001b[1;32m    244\u001b[0m \u001b[0;34m\u001b[0m\u001b[0m\n\u001b[1;32m    245\u001b[0m     \u001b[0;31m# string methods\u001b[0m\u001b[0;34m\u001b[0m\u001b[0;34m\u001b[0m\u001b[0m\n",
      "\u001b[0;31mTypeError\u001b[0m: Column is not iterable"
     ]
    }
   ],
   "source": [
    "for s in shipments:\n",
    "    print s"
   ]
  },
  {
   "cell_type": "code",
   "execution_count": 58,
   "metadata": {
    "collapsed": false
   },
   "outputs": [],
   "source": [
    "s = df.filter(df['paired']['shipmentId'] == 'Test101|%RUN_TS%').sort(df['timestamp']['asOf'])"
   ]
  },
  {
   "cell_type": "code",
   "execution_count": 63,
   "metadata": {
    "collapsed": false
   },
   "outputs": [
    {
     "data": {
      "text/plain": [
       "16"
      ]
     },
     "execution_count": 63,
     "metadata": {},
     "output_type": "execute_result"
    }
   ],
   "source": [
    "s.count()"
   ]
  },
  {
   "cell_type": "code",
   "execution_count": 68,
   "metadata": {
    "collapsed": false
   },
   "outputs": [
    {
     "data": {
      "text/plain": [
       "{'events': {'DeliveryLocationArrival': None,\n",
       "  'GeolocationUpdate': None,\n",
       "  'PickUpLocationDeparture': None,\n",
       "  'ShipmentDeliveryEstimate': None,\n",
       "  'ShipmentEnd': None,\n",
       "  'ShipmentStart': {'legCount': 1,\n",
       "   'legs': [{'carrierAlphaCode': u'LAIR',\n",
       "     'etaAlertThreshold': 60,\n",
       "     'etaNoticeThreshold': 30,\n",
       "     'etaSubscriber': u'true',\n",
       "     'etaWarningThreshold': 15,\n",
       "     'fromPoiId': 1,\n",
       "     'fromPoiName': u'SAVI TECHNOLOGY HQ [SAVI]',\n",
       "     'geoDriftThreshold': 50,\n",
       "     'geoWarpThreshold': 200,\n",
       "     'legNumber': 1,\n",
       "     'mode': u'truck',\n",
       "     'toPoiId': 2,\n",
       "     'toPoiName': u'REAGAN NATIONAL AIRPORT [DCA]',\n",
       "     'toStopNum': 1,\n",
       "     'vesselId': u'JH4TB2H26CC000000'}],\n",
       "   'parties': {'carriers': [u'LAIR'],\n",
       "    'customers': [u'SAVI', u'VADOT'],\n",
       "    'divisions': [u'US', u'VA', u'DC'],\n",
       "    'suppliers': [u'TESTCO']},\n",
       "   'reasonCode': u'goodsIssued',\n",
       "   'referenceIds': [u'Test101|%RUN_TS%', u'Package01|%RUN_TS%'],\n",
       "   'shipmentId': u'Test101|%RUN_TS%',\n",
       "   'shippingPointFences': u'eyJjcnMiOiB7InR5cGUiOiAibmFtZSIsICJwcm9wZXJ0aWVzIjogeyJuYW1lIjogIkVQU0c6NDMyNiJ9fSwgInR5cGUiOiAiRmVhdHVyZUNvbGxlY3Rpb24iLCAiZmVhdHVyZXMiOiBbeyJnZW9tZXRyeSI6IHsidHlwZSI6ICJQb2x5Z29uIiwgImNvb3JkaW5hdGVzIjogW1tbLTc3LjA5MzA4MTQ3NDMwNDIsIDM4LjgwMzQ5NzA1OTQ3MzY2XSwgWy03Ny4wOTMwODE0NzQzMDQyLCAzOC44MDU1MDM2NjYxNTkxNV0sIFstNzcuMDkxNTc5NDM3MjU1ODYsIDM4LjgwNTUwMzY2NjE1OTE1XSwgWy03Ny4wOTE1Nzk0MzcyNTU4NiwgMzguODAzNDk3MDU5NDczNjZdLCBbLTc3LjA5MzA4MTQ3NDMwNDIsIDM4LjgwMzQ5NzA1OTQ3MzY2XV1dfSwgInR5cGUiOiAiRmVhdHVyZSIsICJwcm9wZXJ0aWVzIjogeyJzdG9wTnVtYmVyIjogMCwgInBvaU5hbWUiOiAiU0FWSSBURUNITk9MT0dZIFtTQVZJXSIsICJ0eXBlIjogInNoaXBwaW5nUG9pbnRGZW5jZSIsICJwb2lJZCI6IDF9fSwgeyJnZW9tZXRyeSI6IHsidHlwZSI6ICJQb2x5Z29uIiwgImNvb3JkaW5hdGVzIjogW1tbLTc3LjA0MjY1NTk0NDgyNDIyLCAzOC44NjMzNjk5MzIxODg2OF0sIFstNzcuMDQ3MDc2MjI1MjgwNzYsIDM4Ljg1Nzg1NjExMjI1ODM2XSwgWy03Ny4wNDkwOTMyNDY0NTk5NSwgMzguODQ1NjkwNzc5Mzg2MjVdLCBbLTc3LjA0ODE5MjAyNDIzMDk2LCAzOC44NDEyMTE4MDg3MjQ1M10sIFstNzcuMDM2OTA1Mjg4Njk2MjksIDM4LjgzOTEzOTM1Mzc1Nzk2NV0sIFstNzcuMDMyMzU2MjYyMjA3MDMsIDM4Ljg0Nzk2MzU4MjAyNjA3NV0sIFstNzcuMDMzNTE0OTc2NTAxNDYsIDM4Ljg1NjE4NTE3MzMyMzU5NV0sIFstNzcuMDM4MzIxNDk1MDU2MTUsIDM4Ljg2MzI2OTY4NDczMzQyNF0sIFstNzcuMDQyNjU1OTQ0ODI0MjIsIDM4Ljg2MzM2OTkzMjE4ODY4XV1dfSwgInR5cGUiOiAiRmVhdHVyZSIsICJwcm9wZXJ0aWVzIjogeyJzdG9wTnVtYmVyIjogMSwgInBvaU5hbWUiOiAiUkVBR0FOIE5BVElPTkFMIEFJUlBPUlQgW0RDQV0iLCAidHlwZSI6ICJzaGlwcGluZ1BvaW50RmVuY2UiLCAicG9pSWQiOiAyfX1dfQ==',\n",
       "   'shippingPointMarkers': u'eyJjcnMiOiB7InR5cGUiOiAibmFtZSIsICJwcm9wZXJ0aWVzIjogeyJuYW1lIjogIkVQU0c6NDMyNiJ9fSwgInR5cGUiOiAiRmVhdHVyZUNvbGxlY3Rpb24iLCAiZmVhdHVyZXMiOiBbeyJnZW9tZXRyeSI6IHsidHlwZSI6ICJQb2ludCIsICJjb29yZGluYXRlcyI6IFstNzcuMDkyMjIzLCAzOC44MDQ0MjFdfSwgInR5cGUiOiAiRmVhdHVyZSIsICJwcm9wZXJ0aWVzIjogeyJzdG9wTnVtYmVyIjogMCwgInBvaU5hbWUiOiAiU0FWSSBURUNITk9MT0dZIFtTQVZJXSIsICJ0eXBlIjogInNoaXBwaW5nUG9pbnRNYXJrZXIiLCAicG9pSWQiOiAxfX0sIHsiZ2VvbWV0cnkiOiB7InR5cGUiOiAiUG9pbnQiLCAiY29vcmRpbmF0ZXMiOiBbLTc3LjA0MDIxLCAzOC44NTA4MDhdfSwgInR5cGUiOiAiRmVhdHVyZSIsICJwcm9wZXJ0aWVzIjogeyJzdG9wTnVtYmVyIjogMSwgInBvaU5hbWUiOiAiUkVBR0FOIE5BVElPTkFMIEFJUlBPUlQgW0RDQV0iLCAidHlwZSI6ICJzaGlwcGluZ1BvaW50TWFya2VyIiwgInBvaUlkIjogMn19XX0=',\n",
       "   'shippingPoints': [{'poiId': 1,\n",
       "     'poiName': u'SAVI TECHNOLOGY HQ [SAVI]',\n",
       "     'stopNumber': 0},\n",
       "    {'poiId': 2,\n",
       "     'poiName': u'REAGAN NATIONAL AIRPORT [DCA]',\n",
       "     'stopNumber': 1}],\n",
       "   'sourceType': u'system',\n",
       "   'summary': {'actualStart': u'2016-02-09T11:00:00.000Z',\n",
       "    'etaSubscriber': u'true',\n",
       "    'fromPoiId': 1,\n",
       "    'fromPoiName': u'SAVI TECHNOLOGY HQ [SAVI]',\n",
       "    'plannedEnd': u'2016-02-09T12:30:00.000Z',\n",
       "    'toPoiId': 2,\n",
       "    'toPoiName': u'REAGAN NATIONAL AIRPORT [DCA]'},\n",
       "   'systemId': u'MySAP'}},\n",
       " 'geolocation': None,\n",
       " 'paired': {'carrier': u'LAIR',\n",
       "  'shipmentId': u'Test101|%RUN_TS%',\n",
       "  'shipper': None,\n",
       "  'systemId': u'MySAP',\n",
       "  'vesselId': u'JH4TB2H26CC000000'},\n",
       " 'timestamp': {'asOf': u'2016-02-09T11:00:00.000Z',\n",
       "  'collected': u'2016-02-09T11:00:30.200000Z',\n",
       "  'processed': u'2016-02-09T11:00:33.780000Z',\n",
       "  'received': u'2016-02-09T11:00:32.730000Z'},\n",
       " 'version': u'v1.0.0'}"
      ]
     },
     "execution_count": 68,
     "metadata": {},
     "output_type": "execute_result"
    }
   ],
   "source": [
    "s.first().asDict(True)"
   ]
  },
  {
   "cell_type": "code",
   "execution_count": 69,
   "metadata": {
    "collapsed": false
   },
   "outputs": [
    {
     "ename": "AttributeError",
     "evalue": "'DataFrame' object has no attribute 'last'",
     "output_type": "error",
     "traceback": [
      "\u001b[0;31m---------------------------------------------------------------------------\u001b[0m",
      "\u001b[0;31mAttributeError\u001b[0m                            Traceback (most recent call last)",
      "\u001b[0;32m<ipython-input-69-cf79227d82e8>\u001b[0m in \u001b[0;36m<module>\u001b[0;34m()\u001b[0m\n\u001b[0;32m----> 1\u001b[0;31m \u001b[0ms\u001b[0m\u001b[0;34m.\u001b[0m\u001b[0mlast\u001b[0m\u001b[0;34m(\u001b[0m\u001b[0;34m)\u001b[0m\u001b[0;34m.\u001b[0m\u001b[0masDict\u001b[0m\u001b[0;34m(\u001b[0m\u001b[0mTrue\u001b[0m\u001b[0;34m)\u001b[0m\u001b[0;34m\u001b[0m\u001b[0m\n\u001b[0m",
      "\u001b[0;32m/usr/local/opt/apache-spark/libexec/python/pyspark/sql/dataframe.pyc\u001b[0m in \u001b[0;36m__getattr__\u001b[0;34m(self, name)\u001b[0m\n\u001b[1;32m    840\u001b[0m         \u001b[0;32mif\u001b[0m \u001b[0mname\u001b[0m \u001b[0;32mnot\u001b[0m \u001b[0;32min\u001b[0m \u001b[0mself\u001b[0m\u001b[0;34m.\u001b[0m\u001b[0mcolumns\u001b[0m\u001b[0;34m:\u001b[0m\u001b[0;34m\u001b[0m\u001b[0m\n\u001b[1;32m    841\u001b[0m             raise AttributeError(\n\u001b[0;32m--> 842\u001b[0;31m                 \"'%s' object has no attribute '%s'\" % (self.__class__.__name__, name))\n\u001b[0m\u001b[1;32m    843\u001b[0m         \u001b[0mjc\u001b[0m \u001b[0;34m=\u001b[0m \u001b[0mself\u001b[0m\u001b[0;34m.\u001b[0m\u001b[0m_jdf\u001b[0m\u001b[0;34m.\u001b[0m\u001b[0mapply\u001b[0m\u001b[0;34m(\u001b[0m\u001b[0mname\u001b[0m\u001b[0;34m)\u001b[0m\u001b[0;34m\u001b[0m\u001b[0m\n\u001b[1;32m    844\u001b[0m         \u001b[0;32mreturn\u001b[0m \u001b[0mColumn\u001b[0m\u001b[0;34m(\u001b[0m\u001b[0mjc\u001b[0m\u001b[0;34m)\u001b[0m\u001b[0;34m\u001b[0m\u001b[0m\n",
      "\u001b[0;31mAttributeError\u001b[0m: 'DataFrame' object has no attribute 'last'"
     ]
    }
   ],
   "source": [
    "s.last().asDict(True)"
   ]
  },
  {
   "cell_type": "code",
   "execution_count": 23,
   "metadata": {
    "collapsed": true
   },
   "outputs": [],
   "source": [
    "x = shipments.join(carriers, shipments.shipment == carriers.shipment)"
   ]
  },
  {
   "cell_type": "code",
   "execution_count": 31,
   "metadata": {
    "collapsed": false
   },
   "outputs": [
    {
     "name": "stdout",
     "output_type": "stream",
     "text": [
      "+------------------+---+----+---+---+\n",
      "|origin_destination|BWI|SAVI|IAD|DCA|\n",
      "+------------------+---+----+---+---+\n",
      "|               BWI|  0|   1|  0|  0|\n",
      "|               IAD|  0|   1|  0|  0|\n",
      "|               DCA|  1|   2|  1|  0|\n",
      "|              SAVI|  1|   0|  1|  2|\n",
      "+------------------+---+----+---+---+\n",
      "\n"
     ]
    }
   ],
   "source": [
    "s = shipments\n",
    "s.crosstab(\"origin\", \"destination\").show()"
   ]
  },
  {
   "cell_type": "code",
   "execution_count": 33,
   "metadata": {
    "collapsed": false
   },
   "outputs": [
    {
     "name": "stdout",
     "output_type": "stream",
     "text": [
      "+-------+-----------------+-----------------+------------------+\n",
      "|summary|          pallets|         shipment|             value|\n",
      "+-------+-----------------+-----------------+------------------+\n",
      "|  count|               10|               10|                10|\n",
      "|   mean|             44.2|            146.2|           72221.2|\n",
      "| stddev|32.67278854201323|15.58346702259945|21604.252121592486|\n",
      "|    min|                1|              123|             28564|\n",
      "|    max|              100|              165|             99620|\n",
      "+-------+-----------------+-----------------+------------------+\n",
      "\n"
     ]
    }
   ],
   "source": [
    "s.describe().show()"
   ]
  },
  {
   "cell_type": "code",
   "execution_count": 39,
   "metadata": {
    "collapsed": false
   },
   "outputs": [
    {
     "name": "stdout",
     "output_type": "stream",
     "text": [
      "+------+------------+----------+\n",
      "|origin|avg(pallets)|avg(value)|\n",
      "+------+------------+----------+\n",
      "|   DCA|        25.5|  76985.75|\n",
      "|  SAVI|        43.0|   75412.0|\n",
      "|   BWI|       100.0|   84057.0|\n",
      "|   IAD|        68.0|   28564.0|\n",
      "+------+------------+----------+\n",
      "\n"
     ]
    }
   ],
   "source": [
    "s.groupBy('origin').avg('pallets', 'value').show()"
   ]
  },
  {
   "cell_type": "code",
   "execution_count": 60,
   "metadata": {
    "collapsed": false
   },
   "outputs": [
    {
     "name": "stdout",
     "output_type": "stream",
     "text": [
      "+-------+-----------------+\n",
      "|carrier|       avg(value)|\n",
      "+-------+-----------------+\n",
      "|   DART|          46498.0|\n",
      "|   USXI|          73002.0|\n",
      "|   YODA|          75418.0|\n",
      "|   SCNN|85652.66666666667|\n",
      "+-------+-----------------+\n",
      "\n"
     ]
    }
   ],
   "source": [
    "x.groupBy('carrier').avg('value').sort('avg(value)').show()"
   ]
  },
  {
   "cell_type": "code",
   "execution_count": null,
   "metadata": {
    "collapsed": true
   },
   "outputs": [],
   "source": []
  }
 ],
 "metadata": {
  "kernelspec": {
   "display_name": "Python 2",
   "language": "python",
   "name": "python2"
  },
  "language_info": {
   "codemirror_mode": {
    "name": "ipython",
    "version": 2
   },
   "file_extension": ".py",
   "mimetype": "text/x-python",
   "name": "python",
   "nbconvert_exporter": "python",
   "pygments_lexer": "ipython2",
   "version": "2.7.10"
  }
 },
 "nbformat": 4,
 "nbformat_minor": 0
}
