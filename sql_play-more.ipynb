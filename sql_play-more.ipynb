{
 "cells": [
  {
   "cell_type": "code",
   "execution_count": 1,
   "metadata": {
    "collapsed": false
   },
   "outputs": [],
   "source": [
    "import findspark # You will need to pip install findspark\n",
    "findspark.init()"
   ]
  },
  {
   "cell_type": "code",
   "execution_count": 2,
   "metadata": {
    "collapsed": false
   },
   "outputs": [],
   "source": [
    "from pyspark import SparkContext\n",
    "sc = SparkContext(\"local\", \"MyShell\") # Spark UI at http://localhost:4040/jobs/\n"
   ]
  },
  {
   "cell_type": "code",
   "execution_count": 3,
   "metadata": {
    "collapsed": true
   },
   "outputs": [],
   "source": [
    "from pyspark.sql import SQLContext\n",
    "sqlContext = SQLContext(sc)"
   ]
  },
  {
   "cell_type": "code",
   "execution_count": 15,
   "metadata": {
    "collapsed": false
   },
   "outputs": [],
   "source": [
    "shipments = sqlContext.read.json(\"shipments.json\")\n",
    "carriers = sqlContext.read.json(\"carriers.json\")"
   ]
  },
  {
   "cell_type": "code",
   "execution_count": 16,
   "metadata": {
    "collapsed": false
   },
   "outputs": [
    {
     "name": "stdout",
     "output_type": "stream",
     "text": [
      "root\n",
      " |-- destination: string (nullable = true)\n",
      " |-- origin: string (nullable = true)\n",
      " |-- pallets: long (nullable = true)\n",
      " |-- shipment: long (nullable = true)\n",
      " |-- value: long (nullable = true)\n",
      "\n"
     ]
    }
   ],
   "source": [
    "shipments.printSchema()"
   ]
  },
  {
   "cell_type": "code",
   "execution_count": 17,
   "metadata": {
    "collapsed": false
   },
   "outputs": [
    {
     "name": "stdout",
     "output_type": "stream",
     "text": [
      "+-----------+------+-------+--------+-----+\n",
      "|destination|origin|pallets|shipment|value|\n",
      "+-----------+------+-------+--------+-----+\n",
      "|        DCA|  SAVI|     70|     123|54171|\n",
      "|        IAD|  SAVI|     33|     125|64432|\n",
      "|        DCA|  SAVI|      1|     154|93095|\n",
      "|        BWI|  SAVI|     68|     160|89950|\n",
      "+-----------+------+-------+--------+-----+\n",
      "\n"
     ]
    }
   ],
   "source": [
    "shipments.filter(shipments['origin'] == 'SAVI').show()\n"
   ]
  },
  {
   "cell_type": "code",
   "execution_count": 19,
   "metadata": {
    "collapsed": false
   },
   "outputs": [
    {
     "name": "stdout",
     "output_type": "stream",
     "text": [
      "+-----------+------+-------+--------+-----+-------+--------+\n",
      "|destination|origin|pallets|shipment|value|carrier|shipment|\n",
      "+-----------+------+-------+--------+-----+-------+--------+\n",
      "|        DCA|  SAVI|     70|     123|54171|   YODA|     123|\n",
      "|       SAVI|   IAD|     68|     130|28564|   DART|     130|\n",
      "|       SAVI|   BWI|    100|     153|84057|   USXI|     153|\n",
      "|        BWI|  SAVI|     68|     160|89950|   YODA|     160|\n",
      "|        IAD|   DCA|     56|     162|99620|   SCNN|     162|\n",
      "+-----------+------+-------+--------+-----+-------+--------+\n",
      "\n"
     ]
    }
   ],
   "source": [
    "shipments.filter(shipments['pallets']>50).join(carriers, shipments.shipment == carriers.shipment).show()"
   ]
  },
  {
   "cell_type": "code",
   "execution_count": 20,
   "metadata": {
    "collapsed": false
   },
   "outputs": [
    {
     "data": {
      "text/plain": [
       "[Row(max(value)=99620)]"
      ]
     },
     "execution_count": 20,
     "metadata": {},
     "output_type": "execute_result"
    }
   ],
   "source": [
    "shipments.agg({\"value\": \"max\"}).collect()"
   ]
  },
  {
   "cell_type": "code",
   "execution_count": 23,
   "metadata": {
    "collapsed": true
   },
   "outputs": [],
   "source": [
    "x = shipments.join(carriers, shipments.shipment == carriers.shipment)"
   ]
  },
  {
   "cell_type": "code",
   "execution_count": 31,
   "metadata": {
    "collapsed": false
   },
   "outputs": [
    {
     "name": "stdout",
     "output_type": "stream",
     "text": [
      "+------------------+---+----+---+---+\n",
      "|origin_destination|BWI|SAVI|IAD|DCA|\n",
      "+------------------+---+----+---+---+\n",
      "|               BWI|  0|   1|  0|  0|\n",
      "|               IAD|  0|   1|  0|  0|\n",
      "|               DCA|  1|   2|  1|  0|\n",
      "|              SAVI|  1|   0|  1|  2|\n",
      "+------------------+---+----+---+---+\n",
      "\n"
     ]
    }
   ],
   "source": [
    "s = shipments\n",
    "s.crosstab(\"origin\", \"destination\").show()"
   ]
  },
  {
   "cell_type": "code",
   "execution_count": 33,
   "metadata": {
    "collapsed": false
   },
   "outputs": [
    {
     "name": "stdout",
     "output_type": "stream",
     "text": [
      "+-------+-----------------+-----------------+------------------+\n",
      "|summary|          pallets|         shipment|             value|\n",
      "+-------+-----------------+-----------------+------------------+\n",
      "|  count|               10|               10|                10|\n",
      "|   mean|             44.2|            146.2|           72221.2|\n",
      "| stddev|32.67278854201323|15.58346702259945|21604.252121592486|\n",
      "|    min|                1|              123|             28564|\n",
      "|    max|              100|              165|             99620|\n",
      "+-------+-----------------+-----------------+------------------+\n",
      "\n"
     ]
    }
   ],
   "source": [
    "s.describe().show()"
   ]
  },
  {
   "cell_type": "code",
   "execution_count": 39,
   "metadata": {
    "collapsed": false
   },
   "outputs": [
    {
     "name": "stdout",
     "output_type": "stream",
     "text": [
      "+------+------------+----------+\n",
      "|origin|avg(pallets)|avg(value)|\n",
      "+------+------------+----------+\n",
      "|   DCA|        25.5|  76985.75|\n",
      "|  SAVI|        43.0|   75412.0|\n",
      "|   BWI|       100.0|   84057.0|\n",
      "|   IAD|        68.0|   28564.0|\n",
      "+------+------------+----------+\n",
      "\n"
     ]
    }
   ],
   "source": [
    "s.groupBy('origin').avg('pallets', 'value').show()"
   ]
  },
  {
   "cell_type": "code",
   "execution_count": 60,
   "metadata": {
    "collapsed": false
   },
   "outputs": [
    {
     "name": "stdout",
     "output_type": "stream",
     "text": [
      "+-------+-----------------+\n",
      "|carrier|       avg(value)|\n",
      "+-------+-----------------+\n",
      "|   DART|          46498.0|\n",
      "|   USXI|          73002.0|\n",
      "|   YODA|          75418.0|\n",
      "|   SCNN|85652.66666666667|\n",
      "+-------+-----------------+\n",
      "\n"
     ]
    }
   ],
   "source": [
    "x.groupBy('carrier').avg('value').sort('avg(value)').show()"
   ]
  },
  {
   "cell_type": "code",
   "execution_count": null,
   "metadata": {
    "collapsed": true
   },
   "outputs": [],
   "source": []
  }
 ],
 "metadata": {
  "kernelspec": {
   "display_name": "Python 2",
   "language": "python",
   "name": "python2"
  },
  "language_info": {
   "codemirror_mode": {
    "name": "ipython",
    "version": 2
   },
   "file_extension": ".py",
   "mimetype": "text/x-python",
   "name": "python",
   "nbconvert_exporter": "python",
   "pygments_lexer": "ipython2",
   "version": "2.7.10"
  }
 },
 "nbformat": 4,
 "nbformat_minor": 0
}
